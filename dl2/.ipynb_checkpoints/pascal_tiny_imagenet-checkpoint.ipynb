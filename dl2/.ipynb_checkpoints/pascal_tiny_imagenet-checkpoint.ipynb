{
 "cells": [
  {
   "cell_type": "markdown",
   "metadata": {},
   "source": [
    "## Lesson8 and 9 pascal object detecion applied to Tiny ImageNet Visual Recognition Challenge\n",
    "https://tiny-imagenet.herokuapp.com/\n",
    "\n",
    "\"*Tiny Imagenet has 200 classes. Each class has 500 training images, 50 validation images, and 50 test images. We have released the training and validation sets with images and annotations. We provide both class labels and bounding boxes as annotations; however, you are asked only to predict the class label of each image without localizing the objects. The test set is released without labels*\"\n"
   ]
  },
  {
   "cell_type": "code",
   "execution_count": 161,
   "metadata": {
    "ExecuteTime": {
     "end_time": "2018-03-30T13:04:00.727976Z",
     "start_time": "2018-03-30T13:04:00.545471Z"
    }
   },
   "outputs": [],
   "source": [
    "%matplotlib inline\n",
    "%reload_ext autoreload\n",
    "%autoreload 2"
   ]
  },
  {
   "cell_type": "code",
   "execution_count": 162,
   "metadata": {
    "ExecuteTime": {
     "end_time": "2018-03-30T13:04:01.627369Z",
     "start_time": "2018-03-30T13:04:00.976843Z"
    }
   },
   "outputs": [],
   "source": [
    "from IPython.core.debugger import set_trace\n",
    "\n",
    "from os import listdir\n",
    "from os.path import isfile, join\n",
    "import csv\n",
    "\n",
    "from pathlib import Path\n",
    "import json\n",
    "from matplotlib import patches, patheffects\n",
    "from scipy.special import expit\n",
    "\n",
    "from fastai.conv_learner import *\n",
    "from fastai.dataset import *\n",
    "\n"
   ]
  },
  {
   "cell_type": "code",
   "execution_count": 163,
   "metadata": {
    "ExecuteTime": {
     "end_time": "2018-03-30T13:04:01.662342Z",
     "start_time": "2018-03-30T13:04:01.650335Z"
    }
   },
   "outputs": [],
   "source": [
    "#for pycharm notebooks\n",
    "plt.ion()"
   ]
  },
  {
   "cell_type": "code",
   "execution_count": 164,
   "metadata": {
    "ExecuteTime": {
     "end_time": "2018-03-30T13:04:01.809973Z",
     "start_time": "2018-03-30T13:04:01.787479Z"
    }
   },
   "outputs": [],
   "source": [
    "PATH = Path('/mnt/samsung_1tb/Data/fastai/tiny-imagenet/tiny_imagenet_restructured/')"
   ]
  },
  {
   "cell_type": "code",
   "execution_count": 165,
   "metadata": {
    "ExecuteTime": {
     "end_time": "2018-03-30T13:04:02.292686Z",
     "start_time": "2018-03-30T13:04:02.243079Z"
    }
   },
   "outputs": [
    {
     "data": {
      "text/plain": [
       "['test',\n",
       " 'models',\n",
       " 'words.txt',\n",
       " 'yukez.txt',\n",
       " 'readme.txt',\n",
       " 'train',\n",
       " 'val',\n",
       " 'tmp',\n",
       " 'wnids.txt']"
      ]
     },
     "execution_count": 165,
     "metadata": {},
     "output_type": "execute_result"
    }
   ],
   "source": [
    "os.listdir(PATH)"
   ]
  },
  {
   "cell_type": "markdown",
   "metadata": {},
   "source": [
    "Stage 1: re-structure the data layout and file structures \n",
    "\n",
    "    JPEGS: all images in one directory\n",
    "    find . -name \\*.JPEG -exec cp {} /path/tiny_imagenet_restructured/train/JPEGImages/ \\;\n",
    "    find . -name \\*boxes.txt -exec cp {} /path/tiny_imagenet_restructured/train/Boxes/ \\;\n",
    "    CSV: create df of filename, category\n",
    "\n",
    "Stage 2: read the data in to pascal.ipynb-like dicts\n",
    "\n",
    "ie we want \n",
    "\n",
    "    trn_anno: trn_anno[o[IMG_ID]].append((bb,o[CAT_ID]))\n",
    "    #trn_anno is a dict of {id, [(bbox, category_id), ...]} where coords are TL, BR numpy consistent x,y coords\n",
    "\n",
    "    cats = dict((o[ID], o['name']) for o in trn_j[CATEGORIES])\n",
    "    trn_fns = dict((o[ID], o[FILE_NAME]) for o in trn_j[IMAGES])\n",
    "    trn_ids = [o[ID] for o in trn_j[IMAGES]]"
   ]
  },
  {
   "cell_type": "code",
   "execution_count": 166,
   "metadata": {},
   "outputs": [],
   "source": [
    "JPEGS = 'train/JPEGImages'\n",
    "IMG_PATH = PATH/JPEGS"
   ]
  },
  {
   "cell_type": "code",
   "execution_count": 167,
   "metadata": {},
   "outputs": [],
   "source": [
    "df_submission_example  = pd.read_csv(PATH/'yukez.txt', names=['file_name', 'code'], delim_whitespace=True)\n"
   ]
  },
  {
   "cell_type": "code",
   "execution_count": 168,
   "metadata": {},
   "outputs": [
    {
     "data": {
      "text/html": [
       "<div>\n",
       "<style scoped>\n",
       "    .dataframe tbody tr th:only-of-type {\n",
       "        vertical-align: middle;\n",
       "    }\n",
       "\n",
       "    .dataframe tbody tr th {\n",
       "        vertical-align: top;\n",
       "    }\n",
       "\n",
       "    .dataframe thead th {\n",
       "        text-align: right;\n",
       "    }\n",
       "</style>\n",
       "<table border=\"1\" class=\"dataframe\">\n",
       "  <thead>\n",
       "    <tr style=\"text-align: right;\">\n",
       "      <th></th>\n",
       "      <th>file_name</th>\n",
       "      <th>code</th>\n",
       "    </tr>\n",
       "  </thead>\n",
       "  <tbody>\n",
       "    <tr>\n",
       "      <th>0</th>\n",
       "      <td>test_0.JPEG</td>\n",
       "      <td>n04067472</td>\n",
       "    </tr>\n",
       "    <tr>\n",
       "      <th>1</th>\n",
       "      <td>test_1.JPEG</td>\n",
       "      <td>n02788148</td>\n",
       "    </tr>\n",
       "  </tbody>\n",
       "</table>\n",
       "</div>"
      ],
      "text/plain": [
       "     file_name       code\n",
       "0  test_0.JPEG  n04067472\n",
       "1  test_1.JPEG  n02788148"
      ]
     },
     "execution_count": 168,
     "metadata": {},
     "output_type": "execute_result"
    }
   ],
   "source": [
    "df_submission_example.head(n=2)"
   ]
  },
  {
   "cell_type": "code",
   "execution_count": 169,
   "metadata": {},
   "outputs": [],
   "source": [
    "code_words = {}\n",
    "\n",
    "with open(PATH/'words.txt') as f:\n",
    "  for row in csv.reader(f, delimiter=\"\\t\"):\n",
    "    #We keep only the first of the descriptions\n",
    "    code = row[1].split(\",\")[0]\n",
    "    #replace whitespaces with underscore\n",
    "    code = \"_\".join(code.split()).strip().lower()\n",
    "    code_words[row[0]] = code"
   ]
  },
  {
   "cell_type": "code",
   "execution_count": 170,
   "metadata": {},
   "outputs": [],
   "source": [
    "wnids = [line.strip() for line in open(PATH/'wnids.txt', 'r')]\n",
    "#eg ['n02124075', 'n04067472', 'n04540053',...]"
   ]
  },
  {
   "cell_type": "code",
   "execution_count": 171,
   "metadata": {},
   "outputs": [],
   "source": [
    "#keep only those words from our images\n",
    "code_words = {k: code_words[k] for k in wnids}\n",
    "#eg {'n01443537': 'goldfish', 'n01629819': 'European fire salamander',...\n",
    "#code_words"
   ]
  },
  {
   "cell_type": "code",
   "execution_count": 172,
   "metadata": {},
   "outputs": [],
   "source": [
    "cats = dict(enumerate(x for x in code_words.values()))\n",
    "#cats eg {0: 'Egyptian cat', 1: 'reel',..."
   ]
  },
  {
   "cell_type": "code",
   "execution_count": 173,
   "metadata": {},
   "outputs": [],
   "source": [
    "fn_bbox = {}\n",
    "txt_files = [i for i in os.listdir(PATH/'train/Boxes/') if os.path.splitext(i)[1] == '.txt']\n",
    "\n",
    "for f in txt_files:\n",
    "    with open(os.path.join(PATH/'train/Boxes/',f)) as file_object:\n",
    "        for row in csv.reader(file_object, delimiter=\"\\t\"):\n",
    "            fn_bbox[row[0]] = row[1]+' '+row[2]+' '+row[3]+' '+row[4]"
   ]
  },
  {
   "cell_type": "code",
   "execution_count": 174,
   "metadata": {},
   "outputs": [],
   "source": [
    "#note there is only a single bounding box per image\n",
    "#ie {'n02837789_0.JPEG': '8 8 40 63', 'n02837789_1.JPEG': '32 24 54 39',...\n",
    "#fn_bbox"
   ]
  },
  {
   "cell_type": "code",
   "execution_count": 175,
   "metadata": {},
   "outputs": [
    {
     "data": {
      "text/html": [
       "<div>\n",
       "<style scoped>\n",
       "    .dataframe tbody tr th:only-of-type {\n",
       "        vertical-align: middle;\n",
       "    }\n",
       "\n",
       "    .dataframe tbody tr th {\n",
       "        vertical-align: top;\n",
       "    }\n",
       "\n",
       "    .dataframe thead th {\n",
       "        text-align: right;\n",
       "    }\n",
       "</style>\n",
       "<table border=\"1\" class=\"dataframe\">\n",
       "  <thead>\n",
       "    <tr style=\"text-align: right;\">\n",
       "      <th></th>\n",
       "      <th>file_id</th>\n",
       "    </tr>\n",
       "  </thead>\n",
       "  <tbody>\n",
       "    <tr>\n",
       "      <th>0</th>\n",
       "      <td>n02124075</td>\n",
       "    </tr>\n",
       "    <tr>\n",
       "      <th>1</th>\n",
       "      <td>n04067472</td>\n",
       "    </tr>\n",
       "  </tbody>\n",
       "</table>\n",
       "</div>"
      ],
      "text/plain": [
       "     file_id\n",
       "0  n02124075\n",
       "1  n04067472"
      ]
     },
     "execution_count": 175,
     "metadata": {},
     "output_type": "execute_result"
    }
   ],
   "source": [
    "file_id_df = pd.DataFrame({'file_id':wnids})\n",
    "file_id_df.head(n=2)"
   ]
  },
  {
   "cell_type": "code",
   "execution_count": 176,
   "metadata": {},
   "outputs": [],
   "source": [
    "jpeg_filenames = [f for f in listdir(IMG_PATH) if isfile(join(IMG_PATH, f))]\n",
    "jpeg_filenames.sort()\n",
    "jpeg_fn_df = pd.DataFrame(jpeg_filenames)\n",
    "trn_fns = list(jpeg_fn_df.to_dict().values())[0]\n",
    "#eg {0: 'n01443537_0.JPEG', 1: 'n01443537_1.JPEG',..."
   ]
  },
  {
   "cell_type": "code",
   "execution_count": 177,
   "metadata": {},
   "outputs": [
    {
     "data": {
      "text/plain": [
       "[(array([ 8,  8, 40, 63], dtype=int16), 142)]"
      ]
     },
     "execution_count": 177,
     "metadata": {},
     "output_type": "execute_result"
    }
   ],
   "source": [
    "#so we can look up by value\n",
    "inv_trn_fns = {v: k for k, v in trn_fns.items()}\n",
    "inv_cats = {v: k for k, v in cats.items()}\n",
    "trn_anno = collections.defaultdict(lambda:[])\n",
    "for k, v in fn_bbox.items():\n",
    "    core_code = k.split('_')[0]\n",
    "    bb = fn_bbox[k].split()\n",
    "    bb = np.array([bb[0], bb[1], bb[2], bb[3]])\n",
    "    bb = bb.astype(np.int16)\n",
    "    cat_id = inv_cats[code_words[core_code]]\n",
    "    trn_anno[inv_trn_fns[k]].append((bb, cat_id))\n",
    "#trn_anno\n",
    "im_a = trn_anno[37000]; im_a"
   ]
  },
  {
   "cell_type": "code",
   "execution_count": 178,
   "metadata": {},
   "outputs": [],
   "source": [
    "#conversion between numpy style and cs style\n",
    "def bb_hw(a): \n",
    "    return np.array([a[1],a[0],a[3]-a[1],a[2]-a[0]])"
   ]
  },
  {
   "cell_type": "code",
   "execution_count": 179,
   "metadata": {},
   "outputs": [],
   "source": [
    "im = open_image(IMG_PATH/trn_fns[0])"
   ]
  },
  {
   "cell_type": "code",
   "execution_count": 180,
   "metadata": {},
   "outputs": [],
   "source": [
    "def show_img(im, figsize=None, ax=None):\n",
    "    if not ax: fig,ax = plt.subplots(figsize=figsize)\n",
    "    ax.imshow(im)\n",
    "    ax.get_xaxis().set_visible(False)\n",
    "    ax.get_yaxis().set_visible(False)\n",
    "    return ax"
   ]
  },
  {
   "cell_type": "code",
   "execution_count": 181,
   "metadata": {},
   "outputs": [],
   "source": [
    "def draw_outline(o, lw):\n",
    "    o.set_path_effects([patheffects.Stroke(\n",
    "        linewidth=lw, foreground='black'), patheffects.Normal()])"
   ]
  },
  {
   "cell_type": "code",
   "execution_count": 182,
   "metadata": {},
   "outputs": [],
   "source": [
    "def draw_rect(ax, b):\n",
    "    patch = ax.add_patch(patches.Rectangle(b[:2], *b[-2:], fill=False, edgecolor='white', lw=2))\n",
    "    draw_outline(patch, 4)"
   ]
  },
  {
   "cell_type": "code",
   "execution_count": 183,
   "metadata": {},
   "outputs": [],
   "source": [
    "def draw_text(ax, xy, txt, sz=14):\n",
    "    text = ax.text(*xy, txt,\n",
    "        verticalalignment='top', color='white', fontsize=sz, weight='bold')\n",
    "    draw_outline(text, 1)"
   ]
  },
  {
   "cell_type": "code",
   "execution_count": 184,
   "metadata": {},
   "outputs": [],
   "source": [
    "def draw_im(im, ann):\n",
    "    ax = show_img(im, figsize=(16,8))\n",
    "    for b,c in ann:\n",
    "        b = bb_hw(b)\n",
    "        draw_rect(ax, b)\n",
    "        draw_text(ax, b[:2], cats[c], sz=16)"
   ]
  },
  {
   "cell_type": "code",
   "execution_count": 185,
   "metadata": {},
   "outputs": [],
   "source": [
    "def draw_idx(i):\n",
    "    im_a = trn_anno[i]\n",
    "    im = open_image(IMG_PATH/trn_fns[i])\n",
    "    print(im.shape)\n",
    "    draw_im(im, im_a)"
   ]
  },
  {
   "cell_type": "code",
   "execution_count": 186,
   "metadata": {},
   "outputs": [],
   "source": [
    "def get_lrg(b):\n",
    "    if not b: \n",
    "        raise Exception()\n",
    "    b = sorted(b, key=lambda x: np.product(x[0][-2:]-x[0][:2]), reverse=True)\n",
    "    return b[0]"
   ]
  },
  {
   "cell_type": "code",
   "execution_count": 187,
   "metadata": {},
   "outputs": [],
   "source": [
    "#not necessary as only 1 bbox per image, TODO remove this call\n",
    "trn_lrg_anno = {a: get_lrg(b) for a,b in trn_anno.items()}"
   ]
  },
  {
   "cell_type": "code",
   "execution_count": 292,
   "metadata": {},
   "outputs": [
    {
     "data": {
      "image/png": "[encoded data removed]",
      "text/plain": [
       "<Figure size 360x720 with 1 Axes>"
      ]
     },
     "metadata": {},
     "output_type": "display_data"
    }
   ],
   "source": [
    "b,c = trn_lrg_anno[0]\n",
    "#b = bb_hw(b)\n",
    "ax = show_img(open_image(IMG_PATH/trn_fns[0]), figsize=(5,10))\n",
    "draw_rect(ax, b)\n",
    "draw_text(ax, b[:2], cats[c], sz=16)\n",
    "plt.show()"
   ]
  },
  {
   "cell_type": "code",
   "execution_count": null,
   "metadata": {},
   "outputs": [],
   "source": [
    "b,c = trn_lrg_anno[10000]\n",
    "#b = bb_hw(b)\n",
    "ax = show_img(open_image(IMG_PATH/trn_fns[8000]), figsize=(5,10))\n",
    "draw_rect(ax, b)\n",
    "draw_text(ax, b[:2], cats[c], sz=16)\n",
    "plt.show()"
   ]
  },
  {
   "cell_type": "code",
   "execution_count": 302,
   "metadata": {},
   "outputs": [
    {
     "data": {
      "text/plain": [
       "array([ 0,  1, 42, 38], dtype=int16)"
      ]
     },
     "execution_count": 302,
     "metadata": {},
     "output_type": "execute_result"
    }
   ],
   "source": [
    "b"
   ]
  },
  {
   "cell_type": "code",
   "execution_count": 189,
   "metadata": {},
   "outputs": [],
   "source": [
    "#create filename, category CSV\n",
    "(PATH/'tmp').mkdir(exist_ok=True)\n",
    "CSV = PATH/'tmp/lrg.csv'"
   ]
  },
  {
   "cell_type": "code",
   "execution_count": 190,
   "metadata": {},
   "outputs": [],
   "source": [
    "fn_cat_dict = {}\n",
    "for k, v in trn_fns.items():\n",
    "    core_code = v.split('_')[0]\n",
    "    cat = code_words[core_code]\n",
    "    fn_cat_dict[v] = cat"
   ]
  },
  {
   "cell_type": "code",
   "execution_count": 191,
   "metadata": {},
   "outputs": [],
   "source": [
    "df = pd.DataFrame(list(fn_cat_dict.items()), columns=['filename', 'category'])\n",
    "df.head(n=2)\n",
    "df.to_csv(CSV, index=False)"
   ]
  },
  {
   "cell_type": "code",
   "execution_count": 192,
   "metadata": {},
   "outputs": [
    {
     "data": {
      "text/html": [
       "<div>\n",
       "<style scoped>\n",
       "    .dataframe tbody tr th:only-of-type {\n",
       "        vertical-align: middle;\n",
       "    }\n",
       "\n",
       "    .dataframe tbody tr th {\n",
       "        vertical-align: top;\n",
       "    }\n",
       "\n",
       "    .dataframe thead th {\n",
       "        text-align: right;\n",
       "    }\n",
       "</style>\n",
       "<table border=\"1\" class=\"dataframe\">\n",
       "  <thead>\n",
       "    <tr style=\"text-align: right;\">\n",
       "      <th></th>\n",
       "      <th>filename</th>\n",
       "      <th>category</th>\n",
       "    </tr>\n",
       "  </thead>\n",
       "  <tbody>\n",
       "    <tr>\n",
       "      <th>0</th>\n",
       "      <td>n01443537_0.JPEG</td>\n",
       "      <td>goldfish</td>\n",
       "    </tr>\n",
       "    <tr>\n",
       "      <th>1</th>\n",
       "      <td>n01443537_1.JPEG</td>\n",
       "      <td>goldfish</td>\n",
       "    </tr>\n",
       "  </tbody>\n",
       "</table>\n",
       "</div>"
      ],
      "text/plain": [
       "           filename  category\n",
       "0  n01443537_0.JPEG  goldfish\n",
       "1  n01443537_1.JPEG  goldfish"
      ]
     },
     "execution_count": 192,
     "metadata": {},
     "output_type": "execute_result"
    }
   ],
   "source": [
    "df.head(n=2)"
   ]
  },
  {
   "cell_type": "code",
   "execution_count": 193,
   "metadata": {},
   "outputs": [],
   "source": [
    "#data check\n",
    "for item in trn_fns:\n",
    "    if item not in df['filename']:\n",
    "        print(f'{item}')"
   ]
  },
  {
   "cell_type": "markdown",
   "metadata": {},
   "source": [
    "### Architecture"
   ]
  },
  {
   "cell_type": "code",
   "execution_count": 194,
   "metadata": {},
   "outputs": [
    {
     "name": "stdout",
     "output_type": "stream",
     "text": [
      "avg width: 64.0, avg height: 64.0, max w: 64, min w: 64, max h: 64, min h: 64\n"
     ]
    }
   ],
   "source": [
    "#get av size of first 100 images\n",
    "image_list = list(trn_fns.values())\n",
    "widths = []\n",
    "heights = []\n",
    "for im in image_list[:100]:\n",
    "    w,h=Image.open(IMG_PATH/im).size\n",
    "    widths.append(w)\n",
    "    heights.append(h)\n",
    "av_w = sum(widths)/len(widths)\n",
    "av_h = sum(heights)/len(heights)\n",
    "print(f'avg width: {av_w}, avg height: {av_h}, max w: {max(widths)}, min w: {min(widths)}, max h: {max(heights)}, min h: {min(heights)}')"
   ]
  },
  {
   "cell_type": "code",
   "execution_count": 195,
   "metadata": {},
   "outputs": [],
   "source": [
    "f_model = resnet34\n",
    "size = 64\n",
    "bs = 64"
   ]
  },
  {
   "cell_type": "code",
   "execution_count": 196,
   "metadata": {},
   "outputs": [
    {
     "name": "stdout",
     "output_type": "stream",
     "text": [
      "lable_arr[0]: [0. 0. 0. 0. 0. 0. 0. 0. 0. 0. 0. 0. 0. 0. 0. 0. 0. 0. 0. 0. 0. 0. 0. 0. 0. 0. 0. 0. 0. 0. 0. 0. 0. 0. 0. 0.\n",
      " 0. 0. 0. 0. 0. 0. 0. 0. 0. 0. 0. 0. 0. 0. 0. 0. 0. 0. 0. 0. 0. 0. 0. 0. 0. 0. 0. 0. 0. 0. 0. 0. 0. 0. 0. 0.\n",
      " 0. 0. 0. 0. 0. 0. 0. 0. 0. 0. 0. 0. 0. 0. 1. 0. 0. 0. 0. 0. 0. 0. 0. 0. 0. 0. 0. 0. 0. 0. 0. 0. 0. 0. 0. 0.\n",
      " 0. 0. 0. 0. 0. 0. 0. 0. 0. 0. 0. 0. 0. 0. 0. 0. 0. 0. 0. 0. 0. 0. 0. 0. 0. 0. 0. 0. 0. 0. 0. 0. 0. 0. 0. 0.\n",
      " 0. 0. 0. 0. 0. 0. 0. 0. 0. 0. 0. 0. 0. 0. 0. 0. 0. 0. 0. 0. 0. 0. 0. 0. 0. 0. 0. 0. 0. 0. 0. 0. 0. 0. 0. 0.\n",
      " 0. 0. 0. 0. 0. 0. 0. 0. 0. 0. 0. 0. 0. 0. 0. 0. 0. 0. 0. 0.]  label_arr[1]: [0. 0. 0. 0. 0. 0. 0. 0. 0. 0. 0. 0. 0. 0. 0. 0. 0. 0. 0. 0. 0. 0. 0. 0. 0. 0. 0. 0. 0. 0. 0. 0. 0. 0. 0. 0.\n",
      " 0. 0. 0. 0. 0. 0. 0. 0. 0. 0. 0. 0. 0. 0. 0. 0. 0. 0. 0. 0. 0. 0. 0. 0. 0. 0. 0. 0. 0. 0. 0. 0. 0. 0. 0. 0.\n",
      " 0. 0. 0. 0. 0. 0. 0. 0. 0. 0. 0. 0. 0. 0. 1. 0. 0. 0. 0. 0. 0. 0. 0. 0. 0. 0. 0. 0. 0. 0. 0. 0. 0. 0. 0. 0.\n",
      " 0. 0. 0. 0. 0. 0. 0. 0. 0. 0. 0. 0. 0. 0. 0. 0. 0. 0. 0. 0. 0. 0. 0. 0. 0. 0. 0. 0. 0. 0. 0. 0. 0. 0. 0. 0.\n",
      " 0. 0. 0. 0. 0. 0. 0. 0. 0. 0. 0. 0. 0. 0. 0. 0. 0. 0. 0. 0. 0. 0. 0. 0. 0. 0. 0. 0. 0. 0. 0. 0. 0. 0. 0. 0.\n",
      " 0. 0. 0. 0. 0. 0. 0. 0. 0. 0. 0. 0. 0. 0. 0. 0. 0. 0. 0. 0.]\n",
      "label_arr.sum(axis=1): [1. 1. 1. ... 1. 1. 1.]  label_arr.sum(axis=0): [1. 1. 1. ... 1. 1. 1.]\n",
      "label_arr.sum(axis=1)==1: [ True  True  True ...  True  True  True] is_single = True\n",
      "where not True: [], size: 0\n",
      "type: <class 'numpy.ndarray'> label_arr: [[0. 0. 0. ... 0. 0. 0.]\n",
      " [0. 0. 0. ... 0. 0. 0.]\n",
      " [0. 0. 0. ... 0. 0. 0.]\n",
      " ...\n",
      " [0. 0. 1. ... 0. 0. 0.]\n",
      " [0. 0. 1. ... 0. 0. 0.]\n",
      " [0. 0. 1. ... 0. 0. 0.]]\n"
     ]
    }
   ],
   "source": [
    "transforms = tfms_from_model(f_model, sz = size, aug_tfms=transforms_side_on, crop_type = CropType.NO)\n",
    "model_data = ImageClassifierData.from_csv(PATH, JPEGS, CSV, tfms=transforms)"
   ]
  },
  {
   "cell_type": "code",
   "execution_count": 197,
   "metadata": {},
   "outputs": [
    {
     "data": {
      "text/plain": [
       "<matplotlib.axes._subplots.AxesSubplot at 0x7fda0d96afd0>"
      ]
     },
     "execution_count": 197,
     "metadata": {},
     "output_type": "execute_result"
    },
    {
     "data": {
      "image/png": "[encoded data removed]",
      "text/plain": [
       "<Figure size 432x288 with 1 Axes>"
      ]
     },
     "metadata": {},
     "output_type": "display_data"
    }
   ],
   "source": [
    "x,y = next(iter(model_data.val_dl))\n",
    "show_img(model_data.val_ds.denorm(to_np(x))[0])"
   ]
  },
  {
   "cell_type": "code",
   "execution_count": 199,
   "metadata": {},
   "outputs": [],
   "source": [
    "#on first pass y values in data.val_dl.dataset (in model.fit() vals = validate(stepper, data.val_dl, metrics)) were arrays of floats (0.0) instead of integers\n",
    "#problem was with is_single = np.all(label_arr.sum(axis=1)==1), I re-parsed the labels joining words by underscore and converting to lowercase which fixed this issue"
   ]
  },
  {
   "cell_type": "code",
   "execution_count": 200,
   "metadata": {},
   "outputs": [],
   "source": [
    "learn = ConvLearner.pretrained(f_model, model_data, metrics=[accuracy])\n",
    "learn.opt_fn = optim.Adam"
   ]
  },
  {
   "cell_type": "code",
   "execution_count": 201,
   "metadata": {},
   "outputs": [
    {
     "data": {
      "application/vnd.jupyter.widget-view+json": {
       "model_id": "042ccb1d07b14e3b929378d226caf5d4",
       "version_major": 2,
       "version_minor": 0
      },
      "text/html": [
       "<p>Failed to display Jupyter Widget of type <code>HBox</code>.</p>\n",
       "<p>\n",
       "  If you're reading this message in the Jupyter Notebook or JupyterLab Notebook, it may mean\n",
       "  that the widgets JavaScript is still loading. If this message persists, it\n",
       "  likely means that the widgets JavaScript library is either not installed or\n",
       "  not enabled. See the <a href=\"https://ipywidgets.readthedocs.io/en/stable/user_install.html\">Jupyter\n",
       "  Widgets Documentation</a> for setup instructions.\n",
       "</p>\n",
       "<p>\n",
       "  If you're reading this message in another frontend (for example, a static\n",
       "  rendering on GitHub or <a href=\"https://nbviewer.jupyter.org/\">NBViewer</a>),\n",
       "  it may mean that your frontend doesn't currently support widgets.\n",
       "</p>\n"
      ],
      "text/plain": [
       "HBox(children=(IntProgress(value=0, description='Epoch', max=1), HTML(value='')))"
      ]
     },
     "metadata": {},
     "output_type": "display_data"
    },
    {
     "name": "stdout",
     "output_type": "stream",
     "text": [
      " 68%|██████▊   | 847/1250 [00:28<00:13, 29.68it/s, loss=14]  "
     ]
    }
   ],
   "source": [
    "learn.lr_find()"
   ]
  },
  {
   "cell_type": "code",
   "execution_count": 202,
   "metadata": {},
   "outputs": [
    {
     "data": {
      "image/png": "[encoded data removed]",
      "text/plain": [
       "<Figure size 432x288 with 1 Axes>"
      ]
     },
     "metadata": {},
     "output_type": "display_data"
    }
   ],
   "source": [
    "learn.sched.plot()"
   ]
  },
  {
   "cell_type": "code",
   "execution_count": 203,
   "metadata": {},
   "outputs": [],
   "source": [
    "lr = 1e-3"
   ]
  },
  {
   "cell_type": "code",
   "execution_count": 204,
   "metadata": {},
   "outputs": [
    {
     "data": {
      "application/vnd.jupyter.widget-view+json": {
       "model_id": "7f6e75dbfcf14ad9a6f82570c2b9ceb9",
       "version_major": 2,
       "version_minor": 0
      },
      "text/html": [
       "<p>Failed to display Jupyter Widget of type <code>HBox</code>.</p>\n",
       "<p>\n",
       "  If you're reading this message in the Jupyter Notebook or JupyterLab Notebook, it may mean\n",
       "  that the widgets JavaScript is still loading. If this message persists, it\n",
       "  likely means that the widgets JavaScript library is either not installed or\n",
       "  not enabled. See the <a href=\"https://ipywidgets.readthedocs.io/en/stable/user_install.html\">Jupyter\n",
       "  Widgets Documentation</a> for setup instructions.\n",
       "</p>\n",
       "<p>\n",
       "  If you're reading this message in another frontend (for example, a static\n",
       "  rendering on GitHub or <a href=\"https://nbviewer.jupyter.org/\">NBViewer</a>),\n",
       "  it may mean that your frontend doesn't currently support widgets.\n",
       "</p>\n"
      ],
      "text/plain": [
       "HBox(children=(IntProgress(value=0, description='Epoch', max=3), HTML(value='')))"
      ]
     },
     "metadata": {},
     "output_type": "display_data"
    },
    {
     "name": "stdout",
     "output_type": "stream",
     "text": [
      "  2%|▏         | 22/1250 [00:01<01:01, 20.08it/s, loss=5.91]\n",
      "  2%|▏         | 28/1250 [00:01<00:58, 21.00it/s, loss=5.92]"
     ]
    },
    {
     "name": "stderr",
     "output_type": "stream",
     "text": [
      "Exception in thread Thread-9:\n",
      "Traceback (most recent call last):\n",
      "  File \"/home/walle/anaconda3/envs/fastai/lib/python3.6/threading.py\", line 916, in _bootstrap_inner\n",
      "    self.run()\n",
      "  File \"/home/walle/anaconda3/envs/fastai/lib/python3.6/site-packages/tqdm/_monitor.py\", line 63, in run\n",
      "    for instance in self.tqdm_cls._instances:\n",
      "  File \"/home/walle/anaconda3/envs/fastai/lib/python3.6/_weakrefset.py\", line 60, in __iter__\n",
      "    for itemref in self.data:\n",
      "RuntimeError: Set changed size during iteration\n",
      "\n"
     ]
    },
    {
     "name": "stdout",
     "output_type": "stream",
     "text": [
      "epoch      trn_loss   val_loss   accuracy   \n",
      "    0      2.752567   2.398501   0.426817  \n",
      "    1      2.514217   2.266585   0.454024  \n",
      "    2      2.436718   2.239621   0.458117  \n",
      "\n"
     ]
    },
    {
     "data": {
      "text/plain": [
       "[2.239621, 0.4581170127795527]"
      ]
     },
     "execution_count": 204,
     "metadata": {},
     "output_type": "execute_result"
    }
   ],
   "source": [
    "learn.fit(lrs=lr, n_cycle=1, cycle_len=3)"
   ]
  },
  {
   "cell_type": "code",
   "execution_count": null,
   "metadata": {},
   "outputs": [],
   "source": [
    "learn.sched.plot_lr()"
   ]
  },
  {
   "cell_type": "code",
   "execution_count": 205,
   "metadata": {},
   "outputs": [],
   "source": [
    "lrs = np.array([lr/1000, lr/100, lr])"
   ]
  },
  {
   "cell_type": "code",
   "execution_count": 206,
   "metadata": {},
   "outputs": [],
   "source": [
    "learn.freeze_to(-2)"
   ]
  },
  {
   "cell_type": "code",
   "execution_count": 207,
   "metadata": {},
   "outputs": [
    {
     "data": {
      "application/vnd.jupyter.widget-view+json": {
       "model_id": "90d323d8586d4b7d84ca03126b3a4218",
       "version_major": 2,
       "version_minor": 0
      },
      "text/html": [
       "<p>Failed to display Jupyter Widget of type <code>HBox</code>.</p>\n",
       "<p>\n",
       "  If you're reading this message in the Jupyter Notebook or JupyterLab Notebook, it may mean\n",
       "  that the widgets JavaScript is still loading. If this message persists, it\n",
       "  likely means that the widgets JavaScript library is either not installed or\n",
       "  not enabled. See the <a href=\"https://ipywidgets.readthedocs.io/en/stable/user_install.html\">Jupyter\n",
       "  Widgets Documentation</a> for setup instructions.\n",
       "</p>\n",
       "<p>\n",
       "  If you're reading this message in another frontend (for example, a static\n",
       "  rendering on GitHub or <a href=\"https://nbviewer.jupyter.org/\">NBViewer</a>),\n",
       "  it may mean that your frontend doesn't currently support widgets.\n",
       "</p>\n"
      ],
      "text/plain": [
       "HBox(children=(IntProgress(value=0, description='Epoch', max=1), HTML(value='')))"
      ]
     },
     "metadata": {},
     "output_type": "display_data"
    },
    {
     "name": "stdout",
     "output_type": "stream",
     "text": [
      " 73%|███████▎  | 914/1250 [01:07<00:24, 13.48it/s, loss=12.4]"
     ]
    }
   ],
   "source": [
    "lrf = learn.lr_find(lrs/1000)"
   ]
  },
  {
   "cell_type": "code",
   "execution_count": 208,
   "metadata": {},
   "outputs": [
    {
     "data": {
      "application/vnd.jupyter.widget-view+json": {
       "model_id": "61ddcad8664546d189be5cd20e1ce722",
       "version_major": 2,
       "version_minor": 0
      },
      "text/html": [
       "<p>Failed to display Jupyter Widget of type <code>HBox</code>.</p>\n",
       "<p>\n",
       "  If you're reading this message in the Jupyter Notebook or JupyterLab Notebook, it may mean\n",
       "  that the widgets JavaScript is still loading. If this message persists, it\n",
       "  likely means that the widgets JavaScript library is either not installed or\n",
       "  not enabled. See the <a href=\"https://ipywidgets.readthedocs.io/en/stable/user_install.html\">Jupyter\n",
       "  Widgets Documentation</a> for setup instructions.\n",
       "</p>\n",
       "<p>\n",
       "  If you're reading this message in another frontend (for example, a static\n",
       "  rendering on GitHub or <a href=\"https://nbviewer.jupyter.org/\">NBViewer</a>),\n",
       "  it may mean that your frontend doesn't currently support widgets.\n",
       "</p>\n"
      ],
      "text/plain": [
       "HBox(children=(IntProgress(value=0, description='Epoch', max=1), HTML(value='')))"
      ]
     },
     "metadata": {},
     "output_type": "display_data"
    },
    {
     "name": "stdout",
     "output_type": "stream",
     "text": [
      "  2%|▏         | 19/1250 [00:02<02:21,  8.71it/s, loss=3.32]\n",
      "  2%|▏         | 23/1250 [00:02<02:09,  9.48it/s, loss=3.28]"
     ]
    },
    {
     "name": "stderr",
     "output_type": "stream",
     "text": [
      "Exception in thread Thread-13:\n",
      "Traceback (most recent call last):\n",
      "  File \"/home/walle/anaconda3/envs/fastai/lib/python3.6/threading.py\", line 916, in _bootstrap_inner\n",
      "    self.run()\n",
      "  File \"/home/walle/anaconda3/envs/fastai/lib/python3.6/site-packages/tqdm/_monitor.py\", line 63, in run\n",
      "    for instance in self.tqdm_cls._instances:\n",
      "  File \"/home/walle/anaconda3/envs/fastai/lib/python3.6/_weakrefset.py\", line 60, in __iter__\n",
      "    for itemref in self.data:\n",
      "RuntimeError: Set changed size during iteration\n",
      "\n"
     ]
    },
    {
     "name": "stdout",
     "output_type": "stream",
     "text": [
      "epoch      trn_loss   val_loss   accuracy   \n",
      "    0      2.926831   2.636013   0.386332  \n",
      "\n"
     ]
    },
    {
     "data": {
      "text/plain": [
       "[2.6360126, 0.38633186900958466]"
      ]
     },
     "execution_count": 208,
     "metadata": {},
     "output_type": "execute_result"
    }
   ],
   "source": [
    "learn.fit(lrs=lrs/5, n_cycle=1, cycle_len=1)"
   ]
  },
  {
   "cell_type": "code",
   "execution_count": 209,
   "metadata": {},
   "outputs": [],
   "source": [
    "learn.unfreeze()"
   ]
  },
  {
   "cell_type": "code",
   "execution_count": 210,
   "metadata": {},
   "outputs": [
    {
     "data": {
      "application/vnd.jupyter.widget-view+json": {
       "model_id": "f7b7659dd6564e518b1686a36544b367",
       "version_major": 2,
       "version_minor": 0
      },
      "text/html": [
       "<p>Failed to display Jupyter Widget of type <code>HBox</code>.</p>\n",
       "<p>\n",
       "  If you're reading this message in the Jupyter Notebook or JupyterLab Notebook, it may mean\n",
       "  that the widgets JavaScript is still loading. If this message persists, it\n",
       "  likely means that the widgets JavaScript library is either not installed or\n",
       "  not enabled. See the <a href=\"https://ipywidgets.readthedocs.io/en/stable/user_install.html\">Jupyter\n",
       "  Widgets Documentation</a> for setup instructions.\n",
       "</p>\n",
       "<p>\n",
       "  If you're reading this message in another frontend (for example, a static\n",
       "  rendering on GitHub or <a href=\"https://nbviewer.jupyter.org/\">NBViewer</a>),\n",
       "  it may mean that your frontend doesn't currently support widgets.\n",
       "</p>\n"
      ],
      "text/plain": [
       "HBox(children=(IntProgress(value=0, description='Epoch', max=1), HTML(value='')))"
      ]
     },
     "metadata": {},
     "output_type": "display_data"
    },
    {
     "name": "stdout",
     "output_type": "stream",
     "text": [
      "epoch      trn_loss   val_loss   accuracy   \n",
      "    0      2.795426   2.464471   0.418031  \n",
      "\n"
     ]
    },
    {
     "data": {
      "text/plain": [
       "[2.4644706, 0.4180311501597444]"
      ]
     },
     "execution_count": 210,
     "metadata": {},
     "output_type": "execute_result"
    }
   ],
   "source": [
    "learn.fit(lrs=lrs/5, n_cycle=1, cycle_len=1)"
   ]
  },
  {
   "cell_type": "code",
   "execution_count": 211,
   "metadata": {},
   "outputs": [],
   "source": [
    "learn.save('clas_one')"
   ]
  },
  {
   "cell_type": "code",
   "execution_count": 212,
   "metadata": {},
   "outputs": [],
   "source": [
    "learn.load('clas_one')"
   ]
  },
  {
   "cell_type": "code",
   "execution_count": 213,
   "metadata": {},
   "outputs": [
    {
     "data": {
      "text/plain": [
       "\n",
       "(0 ,.,.) = \n",
       "  0.1083 -0.0287  0.0912  ...   0.5364 -0.0458  0.3652\n",
       " -0.0629 -0.0801  0.1426  ...   1.1872  1.0502  0.3481\n",
       " -0.0629 -0.0287  0.2453  ...   1.2728  1.2385  0.9474\n",
       "           ...             ⋱             ...          \n",
       " -0.4568 -0.4397 -0.4226  ...  -0.2684 -0.1314  0.6563\n",
       " -0.4054 -0.4911 -0.4739  ...  -0.1486 -0.2171  0.1939\n",
       " -0.4568 -0.5767 -0.5082  ...  -0.3883 -0.2684 -0.2342\n",
       "\n",
       "(1 ,.,.) = \n",
       "  1.2731  1.1331  1.1856  ...   1.7458  1.1856  1.6758\n",
       "  1.0980  1.0630  1.2381  ...   2.3761  2.3235  1.6758\n",
       "  1.0805  1.1155  1.3431  ...   2.4286  2.4286  2.2885\n",
       "           ...             ⋱             ...          \n",
       "  0.2227  0.2402  0.2752  ...   0.5728  0.6779  1.4832\n",
       "  0.2752  0.1877  0.2227  ...   0.6954  0.6254  1.0455\n",
       "  0.2227  0.1001  0.1877  ...   0.4328  0.5553  0.5903\n",
       "\n",
       "(2 ,.,.) = \n",
       "  1.5594  1.4200  1.4897  ...   1.6814  1.2457  1.7337\n",
       "  1.3851  1.3502  1.5420  ...   2.2740  2.2914  1.6640\n",
       "  1.3677  1.4025  1.6814  ...   2.2566  2.3437  2.1346\n",
       "           ...             ⋱             ...          \n",
       "  0.2522  0.2348  0.1999  ...   0.0256  0.0779  0.8797\n",
       "  0.2696  0.1476  0.1128  ...   0.2173  0.1476  0.5311\n",
       "  0.2173  0.0605  0.0779  ...   0.0431  0.1302  0.1651\n",
       "[torch.cuda.FloatTensor of size 3x64x64 (GPU 0)]"
      ]
     },
     "execution_count": 213,
     "metadata": {},
     "output_type": "execute_result"
    }
   ],
   "source": [
    "x, y = next(iter(model_data.val_dl))\n",
    "x[0]"
   ]
  },
  {
   "cell_type": "code",
   "execution_count": 214,
   "metadata": {},
   "outputs": [],
   "source": [
    "batch_preds = predict_batch(learn.model, x)"
   ]
  },
  {
   "cell_type": "code",
   "execution_count": 215,
   "metadata": {},
   "outputs": [
    {
     "data": {
      "text/plain": [
       "Variable containing:\n",
       "-7.5453e+00 -8.2718e+00 -2.9322e+00  ...  -7.1259e+00 -6.5516e+00 -7.2114e+00\n",
       "-1.6775e+01 -1.7021e+01 -1.5459e+01  ...  -1.6033e+01 -1.5277e+01 -1.3272e+01\n",
       "-7.4106e+00 -7.1225e+00 -3.3449e+00  ...  -5.6259e+00 -8.1629e+00 -6.5154e+00\n",
       "                ...                   ⋱                   ...                \n",
       "-1.3045e+01 -1.5291e+01 -1.2594e+01  ...  -1.0053e+01 -9.9803e+00 -1.3941e+01\n",
       "-1.5192e+01 -1.6186e+01 -1.4278e+01  ...  -1.6665e+01 -1.4098e+01 -1.2483e+01\n",
       "-6.0650e+00 -6.2406e+00 -9.8424e+00  ...  -6.2255e+00 -6.3241e+00 -6.4828e+00\n",
       "[torch.cuda.FloatTensor of size 64x200 (GPU 0)]"
      ]
     },
     "execution_count": 215,
     "metadata": {},
     "output_type": "execute_result"
    }
   ],
   "source": [
    "batch_preds"
   ]
  },
  {
   "cell_type": "code",
   "execution_count": 216,
   "metadata": {},
   "outputs": [
    {
     "data": {
      "text/plain": [
       "Variable containing:\n",
       " 5.2861e-04  2.5562e-04  5.3279e-02  ...   8.0401e-04  1.4279e-03  7.3810e-04\n",
       " 5.1834e-08  4.0536e-08  1.9334e-07  ...   1.0889e-07  2.3193e-07  1.7221e-06\n",
       " 6.0483e-04  8.0673e-04  3.5262e-02  ...   3.6033e-03  2.8504e-04  1.4805e-03\n",
       "                ...                   ⋱                   ...                \n",
       " 2.1615e-06  2.2867e-07  3.3916e-06  ...   4.3072e-05  4.6305e-05  8.8244e-07\n",
       " 2.5247e-07  9.3422e-08  6.2993e-07  ...   5.7863e-08  7.5390e-07  3.7891e-06\n",
       " 2.3228e-03  1.9486e-03  5.3150e-05  ...   1.9782e-03  1.7926e-03  1.5295e-03\n",
       "[torch.cuda.FloatTensor of size 64x200 (GPU 0)]"
      ]
     },
     "execution_count": 216,
     "metadata": {},
     "output_type": "execute_result"
    }
   ],
   "source": [
    "probs = F.softmax(batch_preds, -1)\n",
    "probs"
   ]
  },
  {
   "cell_type": "code",
   "execution_count": 217,
   "metadata": {},
   "outputs": [],
   "source": [
    "x = to_np(x)\n",
    "preds = to_np(probs)"
   ]
  },
  {
   "cell_type": "code",
   "execution_count": 218,
   "metadata": {},
   "outputs": [],
   "source": [
    "preds = np.argmax(preds, -1)"
   ]
  },
  {
   "cell_type": "code",
   "execution_count": 219,
   "metadata": {},
   "outputs": [
    {
     "data": {
      "image/png": "[encoded data removed]",
      "text/plain": [
       "<Figure size 864x576 with 12 Axes>"
      ]
     },
     "metadata": {},
     "output_type": "display_data"
    }
   ],
   "source": [
    "#draw the predictions\n",
    "fig, axes = plt.subplots(3, 4, figsize = (12, 8))\n",
    "for i,ax in enumerate(axes.flat):\n",
    "    ima=model_data.val_ds.denorm(x)[i]\n",
    "    b = model_data.classes[preds[i]]\n",
    "    ax = show_img(ima, ax=ax)\n",
    "    draw_text(ax, (0, 0), b)\n",
    "plt.tight_layout()\n",
    "plt.show()"
   ]
  },
  {
   "cell_type": "markdown",
   "metadata": {},
   "source": [
    "Needs some work..."
   ]
  },
  {
   "cell_type": "markdown",
   "metadata": {},
   "source": [
    "## Single object detection"
   ]
  },
  {
   "cell_type": "code",
   "execution_count": null,
   "metadata": {},
   "outputs": [],
   "source": [
    "trn_ids = list(trn_fns.keys())"
   ]
  },
  {
   "cell_type": "code",
   "execution_count": null,
   "metadata": {},
   "outputs": [],
   "source": [
    "BB_CSV = PATH/'tmp/bb.csv'\n",
    "\n",
    "bb = np.array([trn_lrg_anno[o][0] for o in trn_ids])\n",
    "#want space sep data\n",
    "bbs = [' '.join(str(p) for p in o) for o in bb]\n",
    "\n",
    "df = pd.DataFrame({'fn': [trn_fns[o] for o in trn_ids], 'bbox': bbs}, columns=['fn', 'bbox'])\n",
    "df.to_csv(BB_CSV, index=False)\n",
    "\n",
    "BB_CSV.open().readlines()[:5]"
   ]
  },
  {
   "cell_type": "code",
   "execution_count": null,
   "metadata": {},
   "outputs": [],
   "source": [
    "#bounding box and largest object\n",
    "f_model = resnet34\n",
    "sz = 64\n",
    "bs = 64"
   ]
  },
  {
   "cell_type": "code",
   "execution_count": null,
   "metadata": {},
   "outputs": [],
   "source": [
    "val_idxs = get_cv_idxs(len(trn_fns))"
   ]
  },
  {
   "cell_type": "code",
   "execution_count": null,
   "metadata": {},
   "outputs": [],
   "source": [
    "augs = [RandomFlip(), RandomRotate(20), RandomLighting(b=0.1, c=0.1)]\n",
    "tfms = tfms_from_model(f_model,sz=sz, aug_tfms=augs, crop_type=CropType.NO, tfm_y=TfmType.COORD)\n",
    "#BB_CSV contains only filename, bbox coords\n",
    "md = ImageClassifierData.from_csv(PATH, JPEGS, BB_CSV, bs=bs, tfms=tfms, continuous=True, val_idxs=val_idxs)\n",
    "print(f'{type(md)}, size: {md.sz}')"
   ]
  },
  {
   "cell_type": "code",
   "execution_count": null,
   "metadata": {},
   "outputs": [],
   "source": [
    "tfms2 = tfms_from_model(f_model, sz=sz, aug_tfms=transforms_side_on, crop_type=CropType.NO)\n",
    "#note we are reading in the CSV not BB_CSV, CSV contains only filename, category\n",
    "md2 = ImageClassifierData.from_csv(PATH, JPEGS, CSV, bs=bs, tfms=tfms2)\n",
    "md2.sz"
   ]
  },
  {
   "cell_type": "code",
   "execution_count": null,
   "metadata": {},
   "outputs": [],
   "source": [
    "class ConcatLblDataset(Dataset):\n",
    "    #take existing ds which has existing independent and dependant vars, add in dependent y2\n",
    "    #extends torch Dataset, which requires one to override the methods below\n",
    "    #sz property added as is required by learner (lean.summary())\n",
    "    def __init__(self, ds, ds2):\n",
    "        #I changed this to use seconds dataset rater than just y to help me understand this\n",
    "        self.ds = ds\n",
    "        self.ds2 = ds2\n",
    "        \n",
    "    def __len__(self):\n",
    "        assert len(self.ds) == len(self.ds2)\n",
    "        return len(self.ds)\n",
    "\n",
    "    def __getitem__(self, i):\n",
    "        x, y = self.ds[i]\n",
    "        x2, y2 = self.ds2[i]\n",
    "        #these should contain exactly the same info, so we only need to keep one. However this test fails\n",
    "        #assert np.array_equal(x,x2)\n",
    "        return (x, (y, y2))\n",
    "    \n",
    "    @property\n",
    "    def sz(self):\n",
    "        x, y = self.ds[0]\n",
    "        print(f'sz: {x.shape[1]}')\n",
    "        return x.shape[1]"
   ]
  },
  {
   "cell_type": "code",
   "execution_count": null,
   "metadata": {},
   "outputs": [],
   "source": [
    "#the bbox tagets\n",
    "md.trn_ds.y"
   ]
  },
  {
   "cell_type": "code",
   "execution_count": null,
   "metadata": {},
   "outputs": [],
   "source": [
    "#classification dependent variable\n",
    "md2.trn_ds.y"
   ]
  },
  {
   "cell_type": "code",
   "execution_count": null,
   "metadata": {},
   "outputs": [],
   "source": [
    "#NB I changed the ConcatLblDataset. now it takes two datasets\n",
    "trn_ds2 = ConcatLblDataset(md.trn_ds, md2.trn_ds)\n",
    "val_ds2 = ConcatLblDataset(md.val_ds, md2.val_ds)"
   ]
  },
  {
   "cell_type": "code",
   "execution_count": null,
   "metadata": {},
   "outputs": [],
   "source": [
    "val_ds2[0][1]"
   ]
  },
  {
   "cell_type": "code",
   "execution_count": null,
   "metadata": {},
   "outputs": [],
   "source": [
    "md.trn_dl.dataset = trn_ds2\n",
    "md.val_dl.dataset = val_ds2\n",
    "print(f'{type(md)}')"
   ]
  },
  {
   "cell_type": "code",
   "execution_count": null,
   "metadata": {},
   "outputs": [],
   "source": [
    "x, y = next(iter(md.val_dl))\n",
    "idx=50\n",
    "ima = md.val_ds.ds.denorm(to_np(x))[idx]\n",
    "#b = bb_hw(to_np(y[0][idx])); b\n",
    "b = to_np(y[0][idx]); b"
   ]
  },
  {
   "cell_type": "code",
   "execution_count": null,
   "metadata": {},
   "outputs": [],
   "source": [
    "ax = show_img(ima)\n",
    "draw_rect(ax,b)\n",
    "draw_text(ax, b[:2], md2.classes[y[1][idx]])\n",
    "plt.show()"
   ]
  },
  {
   "cell_type": "code",
   "execution_count": null,
   "metadata": {},
   "outputs": [],
   "source": [
    "#replace head, add an extra linear layer and add dropout\n",
    "head_reg4 = nn.Sequential(\n",
    "    Flatten(), \n",
    "    nn.ReLU(),\n",
    "    nn.Dropout(0.5),\n",
    "    #this is a helper linear layer\n",
    "    nn.Linear(in_features=512*7*7, out_features=256),\n",
    "    nn.ReLU(),\n",
    "    #1d as we have flattened \n",
    "    nn.BatchNorm1d(256),\n",
    "    nn.Dropout(0.5),\n",
    "    #note at this stage we only have 256 in_features\n",
    "    nn.Linear(in_features=256, out_features= 4+len(cats))\n",
    ")"
   ]
  },
  {
   "cell_type": "code",
   "execution_count": null,
   "metadata": {},
   "outputs": [],
   "source": [
    "#ConvnetBuilder(f, c, is_multi, is_reg, ps=None, xtra_fc=None, xtra_cut=0, custom_head=None)\n",
    "model_arch = ConvnetBuilder(f=f_model, c=0, is_multi=False, is_reg=False, custom_head=head_reg4)"
   ]
  },
  {
   "cell_type": "code",
   "execution_count": null,
   "metadata": {},
   "outputs": [],
   "source": [
    "learn = ConvLearner(data = md, models = model_arch)"
   ]
  },
  {
   "cell_type": "code",
   "execution_count": null,
   "metadata": {},
   "outputs": [],
   "source": [
    "learn.opt_fn = optim.Adam"
   ]
  },
  {
   "cell_type": "code",
   "execution_count": null,
   "metadata": {},
   "outputs": [],
   "source": [
    "def detn_loss(input, target):\n",
    "    bb_t, c_t = target\n",
    "    #first dim is batch dim, input first 4, and 4 onwards elements\n",
    "    bb_i, c_i = input[:, :4], input[:, 4:]\n",
    "    #for bb_i we know they will be b/w 0 & 224\n",
    "    #use sigmoid to force b/w 0&1 and force the range\n",
    "    bb_i = F.sigmoid(bb_i)*224\n",
    "    #scalar for classifications based on what works\n",
    "    combined_loss = F.l1_loss(bb_i, bb_t) + F.cross_entropy(c_i, c_t)*20\n",
    "    return combined_loss\n",
    "    \n",
    "def detn_l1(input, target):\n",
    "    bb_t, _ = target\n",
    "    bb_i = input[:, :4]\n",
    "    bb_i = F.sigmoid(bb_i)*224\n",
    "    f1_loss = F.l1_loss(V(bb_i), V(bb_t)).data\n",
    "    return f1_loss\n",
    "\n",
    "def detn_acc(input, target):\n",
    "    _,c_t = target\n",
    "    c_i = input[:,4:]\n",
    "    return accuracy(c_i, c_t)\n",
    "\n",
    "learn.crit = detn_loss\n",
    "learn.metrics = [detn_acc, detn_l1]"
   ]
  },
  {
   "cell_type": "code",
   "execution_count": null,
   "metadata": {},
   "outputs": [],
   "source": [
    "learn.lr_find()\n",
    "learn.sched.plot()"
   ]
  },
  {
   "cell_type": "code",
   "execution_count": null,
   "metadata": {},
   "outputs": [],
   "source": [
    "lr=1e-3\n",
    "#use_clr sets shed to use CircularLR\n",
    "learn.fit(lrs=lr, n_cycle=1, cycle_len=3, use_clr=(32,5))"
   ]
  },
  {
   "cell_type": "code",
   "execution_count": null,
   "metadata": {},
   "outputs": [],
   "source": [
    "learn.save('reg1_0')"
   ]
  },
  {
   "cell_type": "code",
   "execution_count": null,
   "metadata": {},
   "outputs": [],
   "source": [
    "layer_groups = learn.get_layer_groups()\n",
    "print(f'{layer_groups}, {len(layer_groups)}')"
   ]
  },
  {
   "cell_type": "code",
   "execution_count": null,
   "metadata": {},
   "outputs": [],
   "source": [
    "#set to trainable the last two layer groups only \n",
    "learn.freeze_to(-2) "
   ]
  },
  {
   "cell_type": "code",
   "execution_count": null,
   "metadata": {},
   "outputs": [],
   "source": [
    "lrs = np.array([lr/100, lr/10, lr])"
   ]
  },
  {
   "cell_type": "code",
   "execution_count": null,
   "metadata": {},
   "outputs": [],
   "source": [
    "learn.lr_find(lrs/1000)\n",
    "learn.sched.plot(0)"
   ]
  },
  {
   "cell_type": "code",
   "execution_count": null,
   "metadata": {},
   "outputs": [],
   "source": [
    "learn.fit(lrs/5, n_cycle=1, cycle_len=5, use_clr=(32,10))"
   ]
  },
  {
   "cell_type": "code",
   "execution_count": null,
   "metadata": {},
   "outputs": [],
   "source": [
    "learn.save('reg1_1')"
   ]
  },
  {
   "cell_type": "code",
   "execution_count": null,
   "metadata": {},
   "outputs": [],
   "source": [
    "learn.load('reg1_1')"
   ]
  },
  {
   "cell_type": "code",
   "execution_count": null,
   "metadata": {},
   "outputs": [],
   "source": [
    "learn.unfreeze()"
   ]
  },
  {
   "cell_type": "code",
   "execution_count": null,
   "metadata": {},
   "outputs": [],
   "source": [
    "learn.fit(lrs=lrs/10, n_cycle=1, cycle_len=10, use_clr=(32, 10))"
   ]
  },
  {
   "cell_type": "code",
   "execution_count": null,
   "metadata": {},
   "outputs": [],
   "source": [
    "learn.save('reg1')\n"
   ]
  },
  {
   "cell_type": "code",
   "execution_count": null,
   "metadata": {},
   "outputs": [],
   "source": [
    "learn.load('reg1')"
   ]
  },
  {
   "cell_type": "code",
   "execution_count": null,
   "metadata": {},
   "outputs": [],
   "source": [
    "preds = learn.predict()\n",
    "x, _ = next(iter(md.val_dl))"
   ]
  },
  {
   "cell_type": "code",
   "execution_count": null,
   "metadata": {},
   "outputs": [],
   "source": [
    "fig, axes = plt.subplots(3, 4, figsize=(12,8))\n",
    "for i, ax in enumerate(axes.flat):\n",
    "    #val_ds is val_dl.dataset but val_ds.ds?, \n",
    "    #.denorm is a method in FilesDataset where we reverse the normalization done to a batch of images\n",
    "    ima = md.val_ds.ds.denorm(to_np(x))[i]\n",
    "    #module scipy.special._ufuncs: The expit function, also known as the logistic function, is defined as\n",
    "    #expit(x) = 1/(1+exp(-x)). It is the inverse of the logit function\n",
    "    print(f'preds[i][:4]: {preds[i][:4]}')\n",
    "    bb = expit(preds[i][:4])*64\n",
    "    print(f'bb: {bb}')\n",
    "    #b = bb_hw(bb)\n",
    "    c = np.argmax(preds[i][4:])\n",
    "    ax = show_img(ima, ax=ax)\n",
    "    draw_rect(ax, bb)\n",
    "    draw_text(ax, bb[:2], md2.classes[c])\n",
    "plt.tight_layout()"
   ]
  },
  {
   "cell_type": "code",
   "execution_count": null,
   "metadata": {},
   "outputs": [],
   "source": []
  }
 ],
 "metadata": {
  "kernelspec": {
   "display_name": "Python 3",
   "language": "python",
   "name": "python3"
  },
  "language_info": {
   "codemirror_mode": {
    "name": "ipython",
    "version": 3
   },
   "file_extension": ".py",
   "mimetype": "text/x-python",
   "name": "python",
   "nbconvert_exporter": "python",
   "pygments_lexer": "ipython3",
   "version": "3.6.5"
  }
 },
 "nbformat": 4,
 "nbformat_minor": 2
}
