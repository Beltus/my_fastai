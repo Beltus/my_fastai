{
 "cells": [
  {
   "cell_type": "markdown",
   "metadata": {},
   "source": [
    "#### Testing on subset of imdb data"
   ]
  },
  {
   "cell_type": "code",
   "execution_count": 1,
   "metadata": {},
   "outputs": [],
   "source": [
    "%matplotlib inline\n",
    "%reload_ext autoreload\n",
    "%autoreload 2"
   ]
  },
  {
   "cell_type": "code",
   "execution_count": 2,
   "metadata": {
    "collapsed": true
   },
   "outputs": [],
   "source": [
    "from timeit import default_timer as timer\n",
    "import html\n",
    "\n",
    "from fastai.text import *\n"
   ]
  },
  {
   "cell_type": "code",
   "execution_count": 62,
   "metadata": {},
   "outputs": [
    {
     "name": "stdout",
     "output_type": "stream",
     "text": [
      "__Python VERSION: 3.6.5 |Anaconda, Inc.| (default, Mar 29 2018, 18:21:58) \n",
      "[GCC 7.2.0]\n",
      "__pyTorch VERSION: <module 'torch.version' from '/home/walle/anaconda3/envs/fastai/lib/python3.6/site-packages/torch/version.py'>\n",
      "__CUDA VERSION\n",
      "/bin/sh: 1: nvcc: not found\n",
      "__CUDNN VERSION: 7005\n",
      "__Number CUDA Devices: 1\n",
      "__Devices\n",
      "Active CUDA Device: GPU 0\n",
      "Available devices  1\n",
      "Current cuda device  0\n"
     ]
    }
   ],
   "source": [
    "import torch\n",
    "import sys\n",
    "print('__Python VERSION:', sys.version)\n",
    "print('__pyTorch VERSION:', torch.version)\n",
    "print('__CUDA VERSION')\n",
    "from subprocess import call\n",
    "! nvcc --version\n",
    "print('__CUDNN VERSION:', torch.backends.cudnn.version())\n",
    "print('__Number CUDA Devices:', torch.cuda.device_count())\n",
    "print('__Devices')\n",
    "call(['nvidia-smi', '–format=csv', '–query-gpu=index,name,driver_version,memory.total,memory.used,memory.free'])\n",
    "print('Active CUDA Device: GPU', torch.cuda.current_device())\n",
    "\n",
    "print ('Available devices ', torch.cuda.device_count())\n",
    "print ('Current cuda device ', torch.cuda.current_device())"
   ]
  },
  {
   "cell_type": "code",
   "execution_count": 3,
   "metadata": {},
   "outputs": [],
   "source": [
    "BOS = 'xbos'    #beginning of sentence tag, useful for model to know this\n",
    "FLD = 'xfld'    #data field tag\n",
    "\n",
    "PATH=Path('..')/'data/imdb/aclImdb'"
   ]
  },
  {
   "cell_type": "code",
   "execution_count": 4,
   "metadata": {},
   "outputs": [
    {
     "data": {
      "text/plain": [
       "['test', 'imdbEr.txt', 'models', 'imdb.vocab', 'README', 'train', 'tmp']"
      ]
     },
     "execution_count": 4,
     "metadata": {},
     "output_type": "execute_result"
    }
   ],
   "source": [
    "os.listdir(PATH)"
   ]
  },
  {
   "cell_type": "markdown",
   "metadata": {},
   "source": [
    "## Standardize format"
   ]
  },
  {
   "cell_type": "code",
   "execution_count": 5,
   "metadata": {},
   "outputs": [],
   "source": [
    "#Classifier\n",
    "CLAS_PATH=Path('..')/'data/imdb/imdb_clas'\n",
    "CLAS_PATH.mkdir(exist_ok=True)\n",
    "\n",
    "#Language Model\n",
    "LM_PATH=Path('..')/'data/imdb/imdb_lm'\n",
    "LM_PATH.mkdir(exist_ok=True)"
   ]
  },
  {
   "cell_type": "code",
   "execution_count": 6,
   "metadata": {},
   "outputs": [],
   "source": [
    "#unsup for unlabelled\n",
    "CLASSES = ['neg', 'pos', 'unsup']\n",
    "\n",
    "def get_texts(path):\n",
    "    texts,labels = [],[]\n",
    "    for idx,label in enumerate(CLASSES):\n",
    "        #The glob module finds all the pathnames matching a specified pattern according to the rules used by the Unix shell\n",
    "        for fname in (path/label).glob('*.*'):\n",
    "            #eg ../data/imdb/aclImdb/train/neg/1696_1.txt\n",
    "            texts.append(fname.open('r').read())\n",
    "            labels.append(idx)\n",
    "    return np.array(texts), np.array(labels)\n",
    "\n",
    "trn_texts, trn_labels = get_texts(PATH/'train')\n",
    "val_texts, val_labels = get_texts(PATH/'test')"
   ]
  },
  {
   "cell_type": "code",
   "execution_count": 7,
   "metadata": {},
   "outputs": [
    {
     "name": "stdout",
     "output_type": "stream",
     "text": [
      "len(trn_texts): 75000, len(val_texts): 25000\n"
     ]
    }
   ],
   "source": [
    "print(f'len(trn_texts): {len(trn_texts)}, len(val_texts): {len(val_texts)}')"
   ]
  },
  {
   "cell_type": "code",
   "execution_count": 8,
   "metadata": {},
   "outputs": [],
   "source": [
    "#clip data\n",
    "trn_texts = trn_texts[:1500]\n",
    "trn_labels = trn_labels[:1500]\n",
    "val_texts = val_texts[:500]\n",
    "val_labels = val_labels[:500]"
   ]
  },
  {
   "cell_type": "code",
   "execution_count": 9,
   "metadata": {},
   "outputs": [],
   "source": [
    "col_names = ['labels', 'text']"
   ]
  },
  {
   "cell_type": "code",
   "execution_count": 10,
   "metadata": {},
   "outputs": [],
   "source": [
    "#make randomness reproducible\n",
    "np.random.seed(42)\n",
    "#randomly shuffle this list\n",
    "trn_idx = np.random.permutation(len(trn_texts))\n",
    "val_idx = np.random.permutation(len(val_texts))"
   ]
  },
  {
   "cell_type": "code",
   "execution_count": 11,
   "metadata": {},
   "outputs": [],
   "source": [
    "#create our randomly sorted training and validation lists-generally a good idea to do this\n",
    "trn_texts = trn_texts[trn_idx]\n",
    "val_texts = val_texts[val_idx]\n",
    "\n",
    "trn_labels = trn_labels[trn_idx]\n",
    "val_labels = val_labels[val_idx]"
   ]
  },
  {
   "cell_type": "code",
   "execution_count": 12,
   "metadata": {},
   "outputs": [],
   "source": [
    "df_trn = pd.DataFrame({'text':trn_texts, 'labels':trn_labels}, columns=col_names)\n",
    "df_val = pd.DataFrame({'text':val_texts, 'labels':val_labels}, columns=col_names)"
   ]
  },
  {
   "cell_type": "code",
   "execution_count": 13,
   "metadata": {},
   "outputs": [],
   "source": [
    "#for training data, remove unsupervised\n",
    "df_trn[df_trn['labels']!=2].to_csv(CLAS_PATH/'train_mini.csv',header=False, index=False)\n",
    "df_val.to_csv(CLAS_PATH/'test_mini.csv', header=False, index=False)\n",
    "\n",
    "#write the classes to a file ie neg pos unsup\n",
    "(CLAS_PATH/'classes_mini.txt').open('w').writelines(f'{o}/n' for o in CLASSES)"
   ]
  },
  {
   "cell_type": "markdown",
   "metadata": {},
   "source": [
    "#### Language Model"
   ]
  },
  {
   "cell_type": "code",
   "execution_count": 14,
   "metadata": {},
   "outputs": [],
   "source": [
    "#use more data for training than the given split\n",
    "trn_texts,val_texts = sklearn.model_selection.train_test_split(np.concatenate([trn_texts, val_texts]), test_size=0.1)"
   ]
  },
  {
   "cell_type": "code",
   "execution_count": 15,
   "metadata": {},
   "outputs": [
    {
     "data": {
      "text/plain": [
       "(1800, 200)"
      ]
     },
     "execution_count": 15,
     "metadata": {},
     "output_type": "execute_result"
    }
   ],
   "source": [
    "len(trn_texts), len(val_texts)"
   ]
  },
  {
   "cell_type": "code",
   "execution_count": 16,
   "metadata": {},
   "outputs": [],
   "source": [
    "#initialise classifications to zero\n",
    "df_trn = pd.DataFrame({'text':trn_texts, 'labels':[0]*len(trn_texts)}, columns=col_names)\n",
    "df_val = pd.DataFrame({'text':val_texts, 'labels':[0]*len(val_texts)}, columns=col_names)"
   ]
  },
  {
   "cell_type": "code",
   "execution_count": 17,
   "metadata": {},
   "outputs": [],
   "source": [
    "df_trn.to_csv(LM_PATH/'train_mini.csv', header=False, index=False)\n",
    "df_val.to_csv(LM_PATH/'test_mini.csv', header=False, index=False)"
   ]
  },
  {
   "cell_type": "markdown",
   "metadata": {},
   "source": [
    "## Language Model Tokens\n",
    "\n",
    "Turn text into a a list of tokens using Spacy"
   ]
  },
  {
   "cell_type": "code",
   "execution_count": 18,
   "metadata": {},
   "outputs": [],
   "source": [
    "#this makes pandas more efficient-when passed in to pandas, returns an iterator to iterate through chunks, then loop through these chinks of the dataframe\n",
    "CHUNKSIZE = 24000"
   ]
  },
  {
   "cell_type": "code",
   "execution_count": 19,
   "metadata": {},
   "outputs": [],
   "source": [
    "#Compile a regular expression pattern, returning a pattern object\n",
    "re1 = re.compile(r'  +')\n",
    "\n",
    "#this may not catch all badly formatted text, may need to add to/modify for other input datasets\n",
    "def fixup(text_str):\n",
    "    text_str = text_str.replace('#39;', \"'\").replace('amp;', '&').replace('#146;', \"'\").replace(\n",
    "        'nbsp;', ' ').replace('#36;', '$').replace('\\\\n', \"\\n\").replace('quot;', \"'\").replace(\n",
    "        '<br />', \"\\n\").replace('\\\\\"', '\"').replace('<unk>','u_n').replace(' @.@ ','.').replace(\n",
    "        ' @-@ ','-').replace('\\\\', ' \\\\ ')\n",
    "    return re1.sub(' ', html.unescape(text_str))"
   ]
  },
  {
   "cell_type": "code",
   "execution_count": 20,
   "metadata": {},
   "outputs": [
    {
     "name": "stdout",
     "output_type": "stream",
     "text": [
      "max thread count: 16\n"
     ]
    }
   ],
   "source": [
    "print(f'max thread count: {len(os.sched_getaffinity(0))}')"
   ]
  },
  {
   "cell_type": "code",
   "execution_count": 21,
   "metadata": {},
   "outputs": [],
   "source": [
    "def get_texts(df, n_lbls=1):\n",
    "    #.iloc[<row_selection>,<col_selction>] here default is column 0 only\n",
    "    labels = df.iloc[:,range(n_lbls)].values.astype(np.int64)\n",
    "    texts = f'\\n{BOS} {FLD} 1 '+ df[n_lbls].astype(str)\n",
    "    for i in range(n_lbls+1, len(df.columns)):\n",
    "        texts += f' {FLD} {i-n_lbls} ' + df[i].astype(str)\n",
    "    texts = texts.apply(fixup).values.astype(str)\n",
    "    #type(texts): <class 'pandas.core.series.Series'>\n",
    "    #uses ProcessPoolExcutor with 1/2 of the cpu's, pass in a series to tokenize\n",
    "    start = timer()\n",
    "    tok = Tokenizer().proc_all_mp(partition_by_cores(texts))\n",
    "    end = timer()\n",
    "    print(f'elapsed: {end - start}')\n",
    "    return tok, list(labels)"
   ]
  },
  {
   "cell_type": "code",
   "execution_count": 22,
   "metadata": {},
   "outputs": [],
   "source": [
    "def get_all(tf_reader, n_lbls):\n",
    "    #iterate over the TextFileReader object in chunks\n",
    "    tok, labels = [], []\n",
    "    for i, r in enumerate(tf_reader):\n",
    "        print(i)\n",
    "        tok_, labels_ = get_texts(r, n_lbls)\n",
    "        tok += tok_\n",
    "        labels += labels_\n",
    "    return tok, labels"
   ]
  },
  {
   "cell_type": "code",
   "execution_count": 23,
   "metadata": {},
   "outputs": [
    {
     "name": "stdout",
     "output_type": "stream",
     "text": [
      "type(df_trn): <class 'pandas.io.parsers.TextFileReader'>\n"
     ]
    }
   ],
   "source": [
    "df_trn = pd.read_csv(LM_PATH/'train_mini.csv', header=None, chunksize=CHUNKSIZE)\n",
    "df_val = pd.read_csv(LM_PATH/'test_mini.csv', header=None, chunksize=CHUNKSIZE)\n",
    "#note is not a dataframe\n",
    "print(f'type(df_trn): {type(df_trn)}')"
   ]
  },
  {
   "cell_type": "code",
   "execution_count": 24,
   "metadata": {},
   "outputs": [
    {
     "name": "stdout",
     "output_type": "stream",
     "text": [
      "0\n",
      "elapsed: 3.7319401590011694\n",
      "0\n",
      "elapsed: 2.999602767000397\n"
     ]
    }
   ],
   "source": [
    "tok_trn, trn_labels = get_all(df_trn, 1)\n",
    "tok_val, val_labels = get_all(df_val, 1)"
   ]
  },
  {
   "cell_type": "code",
   "execution_count": 25,
   "metadata": {},
   "outputs": [],
   "source": [
    "(LM_PATH/'tmp').mkdir(exist_ok=True)"
   ]
  },
  {
   "cell_type": "code",
   "execution_count": 26,
   "metadata": {},
   "outputs": [],
   "source": [
    "np.save(LM_PATH/'tmp'/'tok_trn_mini.npy', tok_trn)\n",
    "np.save(LM_PATH/'tmp'/'tok_val_mini.npy', tok_val)"
   ]
  },
  {
   "cell_type": "code",
   "execution_count": 27,
   "metadata": {},
   "outputs": [
    {
     "data": {
      "text/plain": [
       "[('the', 23957),\n",
       " ('.', 20425),\n",
       " (',', 19109),\n",
       " ('a', 11727),\n",
       " ('and', 10781),\n",
       " ('to', 10056),\n",
       " ('of', 9994),\n",
       " ('is', 7567),\n",
       " ('it', 7040),\n",
       " ('i', 6753),\n",
       " ('in', 6472),\n",
       " ('this', 5762),\n",
       " ('that', 5416),\n",
       " ('\"', 5168),\n",
       " (\"'s\", 4288),\n",
       " ('was', 4010),\n",
       " ('-', 3806),\n",
       " ('\\n\\n', 3776),\n",
       " ('movie', 3450),\n",
       " ('for', 3142),\n",
       " ('but', 3093),\n",
       " ('as', 3061),\n",
       " ('with', 3060),\n",
       " (\"n't\", 2829),\n",
       " ('film', 2800)]"
      ]
     },
     "execution_count": 27,
     "metadata": {},
     "output_type": "execute_result"
    }
   ],
   "source": [
    "freq = Counter(p for o in tok_trn for p in o)\n",
    "freq.most_common(25)"
   ]
  },
  {
   "cell_type": "code",
   "execution_count": 28,
   "metadata": {},
   "outputs": [],
   "source": [
    "#limit as over this code gets 'clunky'\n",
    "MAX_VOCAB = 60000\n",
    "MIN_FREQ = 2"
   ]
  },
  {
   "cell_type": "markdown",
   "metadata": {},
   "source": [
    "itos: index to string\n",
    "stoi: string to index"
   ]
  },
  {
   "cell_type": "code",
   "execution_count": 29,
   "metadata": {},
   "outputs": [
    {
     "data": {
      "text/plain": [
       "'the'"
      ]
     },
     "execution_count": 29,
     "metadata": {},
     "output_type": "execute_result"
    }
   ],
   "source": [
    "#index those tokens that appear more than 2x\n",
    "itos = [o for o,c in freq.most_common(MAX_VOCAB) if c>MIN_FREQ]\n",
    "itos.insert(0, '_pad_')\n",
    "#use if not in vocab\n",
    "itos.insert(0, '_unk_')\n",
    "itos[2]"
   ]
  },
  {
   "cell_type": "code",
   "execution_count": 30,
   "metadata": {},
   "outputs": [
    {
     "data": {
      "text/plain": [
       "9574"
      ]
     },
     "execution_count": 30,
     "metadata": {},
     "output_type": "execute_result"
    }
   ],
   "source": [
    "#default to 0 if not in dict\n",
    "stoi = collections.defaultdict(lambda:0, {v:k for k,v in enumerate(itos)})\n",
    "len(stoi)"
   ]
  },
  {
   "cell_type": "code",
   "execution_count": 31,
   "metadata": {},
   "outputs": [
    {
     "data": {
      "text/plain": [
       "(1800,)"
      ]
     },
     "execution_count": 31,
     "metadata": {},
     "output_type": "execute_result"
    }
   ],
   "source": [
    "#index each token for each review\n",
    "trn_lm = np.array([[stoi[o] for o in p] for p in tok_trn])\n",
    "val_lm = np.array([[stoi[o] for o in p] for p in tok_val])\n",
    "trn_lm.shape"
   ]
  },
  {
   "cell_type": "code",
   "execution_count": 32,
   "metadata": {},
   "outputs": [],
   "source": [
    "np.save(LM_PATH/'tmp'/'trn_ids_mini.npy', trn_lm)\n",
    "np.save(LM_PATH/'tmp'/'val_ids_mini.npy', val_lm)\n",
    "pickle.dump(itos, open(LM_PATH/'tmp'/'itos_mini.pkl','wb'))"
   ]
  },
  {
   "cell_type": "code",
   "execution_count": 33,
   "metadata": {},
   "outputs": [],
   "source": [
    "trn_lm = np.load(LM_PATH/'tmp'/'trn_ids_mini.npy')\n",
    "val_lm = np.load(LM_PATH/'tmp'/'val_ids_mini.npy')\n",
    "itos = pickle.load(open(LM_PATH/'tmp'/'itos_mini.pkl', 'rb'))"
   ]
  },
  {
   "cell_type": "code",
   "execution_count": 34,
   "metadata": {},
   "outputs": [
    {
     "data": {
      "text/plain": [
       "(9574, 1800)"
      ]
     },
     "execution_count": 34,
     "metadata": {},
     "output_type": "execute_result"
    }
   ],
   "source": [
    "VOCAB_SIZE = len(itos)\n",
    "VOCAB_SIZE, len(trn_lm)"
   ]
  },
  {
   "cell_type": "markdown",
   "metadata": {},
   "source": [
    "## wikitext103 Conversion\n",
    "\n",
    "pre-trained on a wikipedia subset\n"
   ]
  },
  {
   "cell_type": "code",
   "execution_count": 35,
   "metadata": {},
   "outputs": [],
   "source": [
    "# ! wget -nH -r -np http://files.fast.ai/models/wt103/"
   ]
  },
  {
   "cell_type": "code",
   "execution_count": 36,
   "metadata": {},
   "outputs": [],
   "source": [
    "EMBEDDING_SIZE = 400"
   ]
  },
  {
   "cell_type": "code",
   "execution_count": 37,
   "metadata": {},
   "outputs": [],
   "source": [
    "PRE_PATH = PATH/'models'/'wt103'\n",
    "PRE_LM_PATH = PRE_PATH/'fwd_wt103.h5'"
   ]
  },
  {
   "cell_type": "code",
   "execution_count": 38,
   "metadata": {},
   "outputs": [],
   "source": [
    "#torch.load uses Python's unpickling facilities but treats storages, which underlie tensors, specially\n",
    "wgts = torch.load(PRE_LM_PATH, map_location=lambda storage, loc: storage)"
   ]
  },
  {
   "cell_type": "code",
   "execution_count": 39,
   "metadata": {},
   "outputs": [],
   "source": [
    "enc_wgts = to_np(wgts['0.encoder.weight'])\n",
    "row_m = enc_wgts.mean(0)"
   ]
  },
  {
   "cell_type": "code",
   "execution_count": 40,
   "metadata": {},
   "outputs": [
    {
     "data": {
      "text/plain": [
       "array([-0.0183 , -0.13826,  0.01438, -0.01285,  0.00407,  0.01944,  0.01149, -0.13282, -0.02295, -0.01722,\n",
       "        0.02994,  0.00921,  0.00077,  0.00438,  0.00857, -0.02888, -0.00394,  0.0118 ,  0.00879,  0.01494,\n",
       "       -0.00642, -0.00382,  0.00579, -0.03775,  0.03073, -0.07047, -0.07171,  0.0123 , -0.00541,  0.1581 ,\n",
       "        0.01737, -0.00911, -0.01698, -0.01113,  0.05755,  0.00127,  0.00395,  0.00114,  0.01878,  0.071  ,\n",
       "        0.01962, -0.00169, -0.00555, -0.00386, -0.01911, -0.01806,  0.00647,  0.10169,  0.09787,  0.01921,\n",
       "        0.03101,  0.00116,  0.02322, -0.00719, -0.01492, -0.04923, -0.01528, -0.00084,  0.02119,  0.01153,\n",
       "       -0.00317, -0.0043 ,  0.00564,  0.00659, -0.00396, -0.01103, -0.0344 , -0.02405,  0.003  , -0.00386,\n",
       "       -0.1157 , -0.02246,  0.00273,  0.01854, -0.10246,  0.0069 ,  0.0072 ,  0.12784,  0.01825, -0.00071,\n",
       "       -0.02564, -0.01285, -0.06124,  0.05601, -0.00821,  0.12663,  0.00022,  0.00273,  0.02539,  0.00257,\n",
       "        0.01811, -0.01827, -0.01772,  0.05078, -0.01924, -0.14139, -0.01145,  0.00638,  0.0381 , -0.05412,\n",
       "       -0.13104, -0.00477,  0.00773, -0.00498,  0.00364,  0.00842,  0.00294, -0.00831, -0.00744, -0.26202,\n",
       "       -0.00997, -0.02887,  0.05921,  0.00635, -0.00142, -0.01367,  0.00556,  0.08727, -0.00379,  0.00736,\n",
       "       -0.01507,  0.00766, -0.01829, -0.018  , -0.01805, -0.01832, -0.01101, -0.02461, -0.03174, -0.01899,\n",
       "        0.01744, -0.04458, -0.01472, -0.00847, -0.01636, -0.00302,  0.00293,  0.01459,  0.01815, -0.00963,\n",
       "        0.01937, -0.01591,  0.00012, -0.113  ,  0.00207, -0.00978, -0.00297, -0.04936, -0.01129,  0.0399 ,\n",
       "       -0.00123,  0.01446,  0.00026, -0.00289, -0.13416, -0.01708,  0.11069, -0.0245 , -0.00199,  0.01458,\n",
       "        0.11197,  0.00658,  0.00011,  0.00433,  0.02786, -0.01112, -0.007  , -0.01825,  0.01028, -0.00562,\n",
       "        0.00115,  0.00095,  0.04512, -0.00246,  0.00889, -0.00556, -0.02438,  0.03435, -0.02056, -0.01086,\n",
       "        0.03135, -0.02327,  0.04289, -0.0114 , -0.00969, -0.00808, -0.08698, -0.08851,  0.13078,  0.00786,\n",
       "       -0.01246,  0.02049, -0.0936 ,  0.00325, -0.00231,  0.0454 ,  0.04021,  0.01176, -0.00969, -0.02815,\n",
       "        0.03669, -0.11628,  0.00304,  0.0039 , -0.0457 ,  0.01634, -0.03787, -0.00278,  0.01013,  0.0054 ,\n",
       "        0.01031,  0.00125, -0.00934, -0.00394,  0.00275,  0.00394, -0.00345, -0.03193, -0.00945, -0.01616,\n",
       "       -0.00046,  0.04251, -0.31107,  0.02112, -0.0219 , -0.04113,  0.01003,  0.00776, -0.01057,  0.00563,\n",
       "        0.0049 , -0.00031,  0.12075, -0.00484,  0.0085 ,  0.07184, -0.02776, -0.03734,  0.00872,  0.05376,\n",
       "        0.02496,  0.02166,  0.02413, -0.00654,  0.0083 , -0.04436,  0.01103, -0.00187,  0.08282,  0.00125,\n",
       "        0.01068,  0.00152,  0.01095,  0.19731,  0.00136,  0.00176, -0.00084,  0.11002, -0.00359, -0.01964,\n",
       "        0.01147, -0.02397, -0.03001, -0.00171,  0.01476, -0.01288, -0.03725,  0.00418,  0.01288,  0.00059,\n",
       "        0.0031 , -0.01703, -0.01605,  0.01949,  0.00501,  0.01591,  0.01564, -0.00252,  0.0149 ,  0.03571,\n",
       "        0.01605, -0.00235,  0.01597, -0.03479,  0.01018, -0.0008 ,  0.01825,  0.00324, -0.00053,  0.00793,\n",
       "       -0.0132 , -0.00305,  0.00032, -0.01837,  0.10383,  0.0005 , -0.00044,  0.00272, -0.09692, -0.0027 ,\n",
       "        0.01446,  0.03215, -0.00435, -0.00091,  0.00225,  0.148  , -0.02359,  0.01162, -0.00494,  0.03142,\n",
       "       -0.0543 , -0.0098 ,  0.01356, -0.02753, -0.00317,  0.00046,  0.00225,  0.02576, -0.00585,  0.00048,\n",
       "        0.00037,  0.00571,  0.02525,  0.00803, -0.022  , -0.02228,  0.19818,  0.00408,  0.20809,  0.0009 ,\n",
       "        0.00161,  0.00107, -0.04669, -0.05762,  0.04151,  0.09836,  0.01384,  0.00445, -0.01259,  0.04244,\n",
       "       -0.03234, -0.00121,  0.04292,  0.00663,  0.0014 , -0.02174,  0.08047, -0.05828, -0.02001, -0.00366,\n",
       "       -0.02788,  0.00588,  0.05059, -0.0082 ,  0.00434, -0.00757,  0.00141, -0.00958,  0.00738,  0.00588,\n",
       "        0.03357, -0.00437,  0.0189 , -0.10328,  0.00078, -0.00289,  0.08829,  0.01406,  0.08289, -0.01029,\n",
       "       -0.00796, -0.1597 ,  0.0537 , -0.00515, -0.08332, -0.00225, -0.02233, -0.10237, -0.00178,  0.01633,\n",
       "       -0.03673,  0.14847, -0.01151, -0.01159, -0.05828,  0.00429,  0.00078,  0.00756,  0.0218 , -0.01465,\n",
       "        0.00548,  0.20614, -0.24418, -0.00877,  0.00047,  0.00303,  0.00365,  0.00488,  0.05743, -0.0076 ],\n",
       "      dtype=float32)"
      ]
     },
     "execution_count": 40,
     "metadata": {},
     "output_type": "execute_result"
    }
   ],
   "source": [
    "row_m"
   ]
  },
  {
   "cell_type": "code",
   "execution_count": 41,
   "metadata": {},
   "outputs": [],
   "source": [
    "itos_wiki = pickle.load((PRE_PATH/'itos_wt103.pkl').open('rb'))\n",
    "stoi_wiki = collections.defaultdict(lambda:-1, {v:k for k,v in enumerate(itos_wiki)})"
   ]
  },
  {
   "cell_type": "code",
   "execution_count": 42,
   "metadata": {},
   "outputs": [],
   "source": [
    "#we need to map our itos to itos for wikitext\n",
    "new_wgts = np.zeros((VOCAB_SIZE, EMBEDDING_SIZE), dtype=np.float32)\n",
    "for i, w in enumerate(itos):\n",
    "    r = stoi_wiki[w]\n",
    "    #use mean if our string doesnt exist in wiki\n",
    "    new_wgts[i] = enc_wgts[r] if r>=0 else row_m\n",
    "    "
   ]
  },
  {
   "cell_type": "code",
   "execution_count": 43,
   "metadata": {},
   "outputs": [],
   "source": [
    "#T: convert to torch tensor and put on gpu\n",
    "wgts['0.encoder.weight'] = T(new_wgts)\n",
    "wgts['0.encoder_with_dropout.embed.weight'] = T(np.copy(new_wgts))\n",
    "#decoder uses same weights\n",
    "wgts['1.decoder.weight'] = T(np.copy(new_wgts))"
   ]
  },
  {
   "cell_type": "markdown",
   "metadata": {},
   "source": [
    "## Language Model"
   ]
  },
  {
   "cell_type": "code",
   "execution_count": 44,
   "metadata": {},
   "outputs": [],
   "source": [
    "#number of hidden activation per LSTM layer\n",
    "n_hid= 1150\n",
    "#number of LSTM layers to use in the architecture\n",
    "n_layers = 3\n",
    "wd=1e-7\n",
    "#grab 70 at a time\n",
    "bptt=70\n",
    "bs=52"
   ]
  },
  {
   "cell_type": "code",
   "execution_count": 45,
   "metadata": {},
   "outputs": [],
   "source": [
    "#betas (Tuple[float, float], optional): coefficients used for computing running averages of gradient and its square (default: (0.9, 0.999))\n",
    "#for nlp better to use the defaults below\n",
    "opt_fn = partial(optim.Adam, betas=(0.8, 0.99))"
   ]
  },
  {
   "cell_type": "code",
   "execution_count": 46,
   "metadata": {},
   "outputs": [],
   "source": [
    "#when we iterate over LanguageModelLoader, the sequence length is changed with a normal distribution and significantly changed 5% of time\n",
    "#on first iteration: seq_len = bptt+5*5 ie 95 here\n",
    "#subseqently: seq_len = max(5, int(np.random.normal(bptt, 5))) where 5% of time the mean bptt=bptt/2\n",
    "trn_dl = LanguageModelLoader(np.concatenate(trn_lm), bs, bptt)\n",
    "val_dl = LanguageModelLoader(np.concatenate(val_lm), bs, bptt)\n",
    "\n",
    "#LanguageModelData returns a RNN_Learner with SequentialRNN model\n",
    "#(The SequentialRNN layer is the native torch's Sequential wrapper that puts the RNN_Encoder and LinearDecoder layers sequentially in the model.)\n",
    "model_data = LanguageModelData(PATH, pad_idx=1, nt=VOCAB_SIZE, trn_dl=trn_dl, val_dl=val_dl, bs=bs, bptt=bptt)"
   ]
  },
  {
   "cell_type": "code",
   "execution_count": 47,
   "metadata": {},
   "outputs": [],
   "source": [
    "drops = np.array([0.25, 0.1, 0.2, 0.02, 0.15])*0.7"
   ]
  },
  {
   "cell_type": "code",
   "execution_count": 48,
   "metadata": {},
   "outputs": [],
   "source": [
    "#dropout: dropout to apply to the activations going from one LSTM layer to another\n",
    "#dropouti (float): dropout to apply to the input layer.\n",
    "#wdrop (float): dropout used for a LSTM's internal (or hidden) recurrent weights.\n",
    "#dropoute (float): dropout to apply to the embedding layer.\n",
    "#dropouth (float): dropout to apply to the activations going from one LSTM layer to another\n",
    "kwargs = {'dropouti': drops[0], 'dropout': drops[1], 'wdrop': drops[2], 'dropoute': drops[3], 'dropouth': drops[4]}\n",
    "\n",
    "#returns a RNN_Learner with model ~ SequentialRNN(RNN_Encoder(...), LinearDecoder(...))\n",
    "learner = model_data.get_model(opt_fn = opt_fn, emb_sz = EMBEDDING_SIZE, n_hid = n_hid, n_layers = n_layers, **kwargs)"
   ]
  },
  {
   "cell_type": "code",
   "execution_count": 49,
   "metadata": {},
   "outputs": [
    {
     "data": {
      "text/plain": [
       "<bound method Learner.unfreeze of SequentialRNN(\n",
       "  (0): RNN_Encoder(\n",
       "    (encoder): Embedding(9574, 400, padding_idx=1)\n",
       "    (encoder_with_dropout): EmbeddingDropout(\n",
       "      (embed): Embedding(9574, 400, padding_idx=1)\n",
       "    )\n",
       "    (rnns): ModuleList(\n",
       "      (0): WeightDrop(\n",
       "        (module): LSTM(400, 1150, dropout=0.105)\n",
       "      )\n",
       "      (1): WeightDrop(\n",
       "        (module): LSTM(1150, 1150, dropout=0.105)\n",
       "      )\n",
       "      (2): WeightDrop(\n",
       "        (module): LSTM(1150, 400, dropout=0.105)\n",
       "      )\n",
       "    )\n",
       "    (dropouti): LockedDropout(\n",
       "    )\n",
       "    (dropouths): ModuleList(\n",
       "      (0): LockedDropout(\n",
       "      )\n",
       "      (1): LockedDropout(\n",
       "      )\n",
       "      (2): LockedDropout(\n",
       "      )\n",
       "    )\n",
       "  )\n",
       "  (1): LinearDecoder(\n",
       "    (decoder): Linear(in_features=400, out_features=9574, bias=False)\n",
       "    (dropout): LockedDropout(\n",
       "    )\n",
       "  )\n",
       ")>"
      ]
     },
     "execution_count": 49,
     "metadata": {},
     "output_type": "execute_result"
    }
   ],
   "source": [
    "learner.metrics = [accuracy]\n",
    "learner.unfreeze"
   ]
  },
  {
   "cell_type": "code",
   "execution_count": 50,
   "metadata": {},
   "outputs": [],
   "source": [
    "lr=1e-3\n",
    "lrs=lr"
   ]
  },
  {
   "cell_type": "code",
   "execution_count": 51,
   "metadata": {},
   "outputs": [
    {
     "data": {
      "application/vnd.jupyter.widget-view+json": {
       "model_id": "2136d6fedb694e1d802a90c008a2b44e",
       "version_major": 2,
       "version_minor": 0
      },
      "text/html": [
       "<p>Failed to display Jupyter Widget of type <code>HBox</code>.</p>\n",
       "<p>\n",
       "  If you're reading this message in the Jupyter Notebook or JupyterLab Notebook, it may mean\n",
       "  that the widgets JavaScript is still loading. If this message persists, it\n",
       "  likely means that the widgets JavaScript library is either not installed or\n",
       "  not enabled. See the <a href=\"https://ipywidgets.readthedocs.io/en/stable/user_install.html\">Jupyter\n",
       "  Widgets Documentation</a> for setup instructions.\n",
       "</p>\n",
       "<p>\n",
       "  If you're reading this message in another frontend (for example, a static\n",
       "  rendering on GitHub or <a href=\"https://nbviewer.jupyter.org/\">NBViewer</a>),\n",
       "  it may mean that your frontend doesn't currently support widgets.\n",
       "</p>\n"
      ],
      "text/plain": [
       "HBox(children=(IntProgress(value=0, description='Epoch', max=1), HTML(value='')))"
      ]
     },
     "metadata": {},
     "output_type": "display_data"
    },
    {
     "name": "stdout",
     "output_type": "stream",
     "text": [
      "epoch      trn_loss   val_loss   accuracy   \n",
      "    0      6.497292   6.17919    0.046813  \n",
      "\n",
      "elapsed: 14.637243703999047\n"
     ]
    }
   ],
   "source": [
    "start = timer()\n",
    "learner.fit(lrs/2, 1, wds=wd, use_clr=(32,2), cycle_len=1)\n",
    "end = timer()\n",
    "print(f'elapsed: {end - start}')\n",
    "#showing seq_len and bptt values:\n",
    "# 0%|          | 0/6870 [00:00<?, ?it/s]initial seq_len: 95, bptt: 70\n",
    "# 0%|          | 1/6870 [00:01<2:29:15,  1.30s/it, loss=11]seq_len: 36, bptt: 70\n",
    "# 0%|          | 2/6870 [00:01<1:20:31,  1.42it/s, loss=11]seq_len: 73, bptt: 70\n",
    "# 0%|          | 3/6870 [00:01<1:00:29,  1.89it/s, loss=11]seq_len: 73, bptt: 70\n",
    "# 0%|          | 4/6870 [00:01<50:36,  2.26it/s, loss=11]  seq_len: 65, bptt: 70"
   ]
  },
  {
   "cell_type": "code",
   "execution_count": 52,
   "metadata": {},
   "outputs": [],
   "source": [
    "learner.save('lm_last_fit_mini')"
   ]
  },
  {
   "cell_type": "code",
   "execution_count": 53,
   "metadata": {},
   "outputs": [],
   "source": [
    "learner.load('lm_last_fit_mini')"
   ]
  },
  {
   "cell_type": "code",
   "execution_count": 54,
   "metadata": {},
   "outputs": [],
   "source": [
    "learner.unfreeze()"
   ]
  },
  {
   "cell_type": "code",
   "execution_count": 55,
   "metadata": {},
   "outputs": [
    {
     "data": {
      "application/vnd.jupyter.widget-view+json": {
       "model_id": "a0ce1dab259f4666ad843df95f85f6e5",
       "version_major": 2,
       "version_minor": 0
      },
      "text/html": [
       "<p>Failed to display Jupyter Widget of type <code>HBox</code>.</p>\n",
       "<p>\n",
       "  If you're reading this message in the Jupyter Notebook or JupyterLab Notebook, it may mean\n",
       "  that the widgets JavaScript is still loading. If this message persists, it\n",
       "  likely means that the widgets JavaScript library is either not installed or\n",
       "  not enabled. See the <a href=\"https://ipywidgets.readthedocs.io/en/stable/user_install.html\">Jupyter\n",
       "  Widgets Documentation</a> for setup instructions.\n",
       "</p>\n",
       "<p>\n",
       "  If you're reading this message in another frontend (for example, a static\n",
       "  rendering on GitHub or <a href=\"https://nbviewer.jupyter.org/\">NBViewer</a>),\n",
       "  it may mean that your frontend doesn't currently support widgets.\n",
       "</p>\n"
      ],
      "text/plain": [
       "HBox(children=(IntProgress(value=0, description='Epoch', max=1), HTML(value='')))"
      ]
     },
     "metadata": {},
     "output_type": "display_data"
    },
    {
     "name": "stdout",
     "output_type": "stream",
     "text": [
      "epoch      trn_loss   val_loss   accuracy   \n",
      "    0      6.42252    6.257159   0.046833  \n",
      "\n",
      "elapsed: 13.832633762000114\n"
     ]
    }
   ],
   "source": [
    "start = timer()\n",
    "learner.lr_find(start_lr=lrs/10, end_lr=lrs*10, linear=True)\n",
    "end = timer()\n",
    "print(f'elapsed: {end - start}')"
   ]
  },
  {
   "cell_type": "code",
   "execution_count": 56,
   "metadata": {},
   "outputs": [
    {
     "data": {
      "image/png": "[encoded data removed]",
      "text/plain": [
       "<Figure size 432x288 with 1 Axes>"
      ]
     },
     "metadata": {},
     "output_type": "display_data"
    }
   ],
   "source": [
    "learner.sched.plot()"
   ]
  },
  {
   "cell_type": "code",
   "execution_count": 57,
   "metadata": {},
   "outputs": [
    {
     "data": {
      "application/vnd.jupyter.widget-view+json": {
       "model_id": "a2567e65cd7a46fc8a6612047e5145f6",
       "version_major": 2,
       "version_minor": 0
      },
      "text/html": [
       "<p>Failed to display Jupyter Widget of type <code>HBox</code>.</p>\n",
       "<p>\n",
       "  If you're reading this message in the Jupyter Notebook or JupyterLab Notebook, it may mean\n",
       "  that the widgets JavaScript is still loading. If this message persists, it\n",
       "  likely means that the widgets JavaScript library is either not installed or\n",
       "  not enabled. See the <a href=\"https://ipywidgets.readthedocs.io/en/stable/user_install.html\">Jupyter\n",
       "  Widgets Documentation</a> for setup instructions.\n",
       "</p>\n",
       "<p>\n",
       "  If you're reading this message in another frontend (for example, a static\n",
       "  rendering on GitHub or <a href=\"https://nbviewer.jupyter.org/\">NBViewer</a>),\n",
       "  it may mean that your frontend doesn't currently support widgets.\n",
       "</p>\n"
      ],
      "text/plain": [
       "HBox(children=(IntProgress(value=0, description='Epoch', max=15), HTML(value='')))"
      ]
     },
     "metadata": {},
     "output_type": "display_data"
    },
    {
     "name": "stdout",
     "output_type": "stream",
     "text": [
      "epoch      trn_loss   val_loss   accuracy   \n",
      "    0      6.364579   6.188742   0.046889  \n",
      "    1      6.359573   6.191888   0.04689   \n",
      "    2      6.206604   5.862004   0.095394  \n",
      "    3      5.76674    5.480955   0.133157  \n",
      "    4      5.509161   5.309659   0.148314  \n",
      "    5      5.371875   5.209993   0.159423  \n",
      "    6      5.265159   5.142036   0.164437  \n",
      "    7      5.184634   5.092324   0.168677  \n",
      "    8      5.108989   5.041561   0.17525   \n",
      "    9      5.052266   5.016231   0.178402  \n",
      "    10     5.010891   4.97658    0.182231  \n",
      "    11     4.968548   4.965653   0.18263   \n",
      "    12     4.944805   4.93827    0.184857  \n",
      "    13     4.910377   4.924948   0.18649   \n",
      "    14     4.899093   4.919841   0.187322  \n",
      "\n",
      "elapsed: 213.08738207100032\n"
     ]
    }
   ],
   "source": [
    "start = timer()\n",
    "learner.fit(lrs, 1, wds=wd, use_clr=(20,10), cycle_len=15)\n",
    "end = timer()\n",
    "print(f'elapsed: {end - start}')"
   ]
  },
  {
   "cell_type": "code",
   "execution_count": null,
   "metadata": {},
   "outputs": [],
   "source": [
    "#for full sataset after 5 hrs (on GTX1080Ti):\n",
    "#14     4.045284   4.072163   0.299391  \n",
    "\n",
    "#1/50th dataset after 213 seconds:\n",
    "#14     4.899093   4.919841   0.187322  \n",
    "\n",
    "#1/100th dataset after 96 seconds:\n",
    "#14     5.937064   5.737786   0.097723  \n"
   ]
  },
  {
   "cell_type": "code",
   "execution_count": 59,
   "metadata": {},
   "outputs": [],
   "source": [
    "learner.save('lm1_mini')"
   ]
  },
  {
   "cell_type": "code",
   "execution_count": 60,
   "metadata": {},
   "outputs": [],
   "source": [
    "learner.save_encoder('lm1_enc_mini')"
   ]
  },
  {
   "cell_type": "code",
   "execution_count": 61,
   "metadata": {},
   "outputs": [
    {
     "data": {
      "image/png": "[encoded data removed]",
      "text/plain": [
       "<Figure size 432x288 with 1 Axes>"
      ]
     },
     "metadata": {},
     "output_type": "display_data"
    }
   ],
   "source": [
    "learner.sched.plot_loss()"
   ]
  },
  {
   "cell_type": "markdown",
   "metadata": {},
   "source": [
    "## Classifier Tokens"
   ]
  },
  {
   "cell_type": "code",
   "execution_count": 62,
   "metadata": {},
   "outputs": [],
   "source": [
    "df_trn = pd.read_csv(CLAS_PATH/'train_mini.csv', header=None, chunksize=CHUNKSIZE)\n",
    "df_val = pd.read_csv(CLAS_PATH/'test_mini.csv', header=None, chunksize=CHUNKSIZE)"
   ]
  },
  {
   "cell_type": "code",
   "execution_count": 63,
   "metadata": {},
   "outputs": [
    {
     "name": "stdout",
     "output_type": "stream",
     "text": [
      "0\n",
      "elapsed: 3.1977368379994004\n"
     ]
    }
   ],
   "source": [
    "tok_trn, trn_labels = get_all(tf_reader=df_trn, n_lbls=1)\n",
    "tok_val, val_labels = get_all(tf_reader=df_trn, n_lbls=1)"
   ]
  },
  {
   "cell_type": "code",
   "execution_count": 64,
   "metadata": {},
   "outputs": [],
   "source": [
    "(CLAS_PATH/'tmp').mkdir(exist_ok=True)\n",
    "\n",
    "np.save(CLAS_PATH/'tmp'/'tok_trn_mini.npy', tok_trn)\n",
    "np.save(CLAS_PATH/'tmp'/'tok_val_mini.npy', tok_val)\n",
    "\n",
    "np.save(CLAS_PATH/'tmp'/'trn_labels_mini.npy', trn_labels)\n",
    "np.save(CLAS_PATH/'tmp'/'val_labels_mini.npy', val_labels)"
   ]
  },
  {
   "cell_type": "code",
   "execution_count": 65,
   "metadata": {},
   "outputs": [],
   "source": [
    "tok_trn = np.load(CLAS_PATH/'tmp'/'tok_trn_mini.npy')\n",
    "tok_val = np.load(CLAS_PATH/'tmp'/'tok_val_mini.npy')"
   ]
  },
  {
   "cell_type": "code",
   "execution_count": 66,
   "metadata": {},
   "outputs": [
    {
     "data": {
      "text/plain": [
       "5929"
      ]
     },
     "execution_count": 66,
     "metadata": {},
     "output_type": "execute_result"
    }
   ],
   "source": [
    "itos = pickle.load((LM_PATH/'tmp'/'itos_mini.pkl').open('rb'))\n",
    "stoi = collections.defaultdict(lambda:0, {v:k for k,v in enumerate(itos)})\n",
    "len(itos)"
   ]
  },
  {
   "cell_type": "code",
   "execution_count": 67,
   "metadata": {},
   "outputs": [],
   "source": [
    "trn_clas = np.array([[stoi[o] for o in p] for p in tok_trn])\n",
    "val_clas = np.array([[stoi[o] for o in p] for p in tok_val])"
   ]
  },
  {
   "cell_type": "code",
   "execution_count": 68,
   "metadata": {},
   "outputs": [],
   "source": [
    "np.save(CLAS_PATH/'tmp'/'trn_ids_mini.npy', trn_clas)\n",
    "np.save(CLAS_PATH/'tmp'/'val_ids_mini.npy', val_clas)"
   ]
  },
  {
   "cell_type": "markdown",
   "metadata": {},
   "source": [
    "## Classifier"
   ]
  },
  {
   "cell_type": "code",
   "execution_count": null,
   "metadata": {},
   "outputs": [],
   "source": []
  }
 ],
 "metadata": {
  "kernelspec": {
   "display_name": "Python 3",
   "language": "python",
   "name": "python3"
  },
  "language_info": {
   "codemirror_mode": {
    "name": "ipython",
    "version": 3
   },
   "file_extension": ".py",
   "mimetype": "text/x-python",
   "name": "python",
   "nbconvert_exporter": "python",
   "pygments_lexer": "ipython3",
   "version": "3.6.5"
  }
 },
 "nbformat": 4,
 "nbformat_minor": 2
}
